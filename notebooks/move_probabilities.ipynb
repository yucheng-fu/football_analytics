{
 "cells": [
  {
   "cell_type": "code",
   "execution_count": 72,
   "id": "87512ebc",
   "metadata": {},
   "outputs": [],
   "source": [
    "from statsbombpy import sb\n",
    "import numpy as np\n",
    "import polars as pl\n",
    "\n",
    "import sys\n",
    "\n",
    "sys.path.append(\"..\")\n",
    "\n",
    "from utils.statics import GRID_X, GRID_Y, x_bins, y_bins\n",
    "from utils.pitch_utils import get_grid_cell\n",
    "\n",
    "import warnings\n",
    "\n",
    "warnings.filterwarnings(\"ignore\")"
   ]
  },
  {
   "cell_type": "code",
   "execution_count": 73,
   "id": "1dc4cf32",
   "metadata": {},
   "outputs": [],
   "source": [
    "# find 2018 world cup matches\n",
    "comps_df = sb.competitions()\n",
    "comps = pl.from_pandas(comps_df)\n",
    "wc2018 = comps.filter(\n",
    "    (pl.col(\"competition_name\") == \"FIFA World Cup\") & (pl.col(\"season_name\") == \"2018\")\n",
    ")"
   ]
  },
  {
   "cell_type": "code",
   "execution_count": 74,
   "id": "0407e985",
   "metadata": {},
   "outputs": [],
   "source": [
    "wc2018_matches_df = sb.matches(competition_id=43, season_id=3).sort_values(\n",
    "    \"match_date\", ascending=False\n",
    ")\n",
    "wc2018_matches = pl.from_pandas(wc2018_matches_df)"
   ]
  },
  {
   "cell_type": "code",
   "execution_count": 75,
   "id": "2b12bcc5",
   "metadata": {},
   "outputs": [
    {
     "data": {
      "text/html": [
       "<div><style>\n",
       ".dataframe > thead > tr,\n",
       ".dataframe > tbody > tr {\n",
       "  text-align: right;\n",
       "  white-space: pre-wrap;\n",
       "}\n",
       "</style>\n",
       "<small>shape: (64, 22)</small><table border=\"1\" class=\"dataframe\"><thead><tr><th>match_id</th><th>match_date</th><th>kick_off</th><th>competition</th><th>season</th><th>home_team</th><th>away_team</th><th>home_score</th><th>away_score</th><th>match_status</th><th>match_status_360</th><th>last_updated</th><th>last_updated_360</th><th>match_week</th><th>competition_stage</th><th>stadium</th><th>referee</th><th>home_managers</th><th>away_managers</th><th>data_version</th><th>shot_fidelity_version</th><th>xy_fidelity_version</th></tr><tr><td>i64</td><td>str</td><td>str</td><td>str</td><td>str</td><td>str</td><td>str</td><td>i64</td><td>i64</td><td>str</td><td>str</td><td>str</td><td>str</td><td>i64</td><td>str</td><td>str</td><td>str</td><td>str</td><td>str</td><td>str</td><td>str</td><td>str</td></tr></thead><tbody><tr><td>8658</td><td>&quot;2018-07-15&quot;</td><td>&quot;17:00:00.000&quot;</td><td>&quot;International - FIFA World Cup&quot;</td><td>&quot;2018&quot;</td><td>&quot;France&quot;</td><td>&quot;Croatia&quot;</td><td>4</td><td>2</td><td>&quot;available&quot;</td><td>&quot;scheduled&quot;</td><td>&quot;2023-07-24T13:03:36.244040&quot;</td><td>&quot;2021-06-13T16:17:31.694&quot;</td><td>7</td><td>&quot;Final&quot;</td><td>&quot;Stadion Luzhniki&quot;</td><td>&quot;Néstor Fabián Pitana&quot;</td><td>&quot;Didier Deschamps&quot;</td><td>&quot;Zlatko Dalić&quot;</td><td>&quot;1.0.2&quot;</td><td>null</td><td>null</td></tr><tr><td>8657</td><td>&quot;2018-07-14&quot;</td><td>&quot;16:00:00.000&quot;</td><td>&quot;International - FIFA World Cup&quot;</td><td>&quot;2018&quot;</td><td>&quot;Belgium&quot;</td><td>&quot;England&quot;</td><td>2</td><td>0</td><td>&quot;available&quot;</td><td>&quot;scheduled&quot;</td><td>&quot;2023-07-24T13:02:46.901265&quot;</td><td>&quot;2021-06-13T16:17:31.694&quot;</td><td>7</td><td>&quot;3rd Place Final&quot;</td><td>&quot;Saint-Petersburg Stadium&quot;</td><td>&quot;Alireza Faghani&quot;</td><td>&quot;Roberto Martínez Montoliú&quot;</td><td>&quot;Gareth Southgate&quot;</td><td>&quot;1.0.2&quot;</td><td>null</td><td>null</td></tr><tr><td>8656</td><td>&quot;2018-07-11&quot;</td><td>&quot;20:00:00.000&quot;</td><td>&quot;International - FIFA World Cup&quot;</td><td>&quot;2018&quot;</td><td>&quot;Croatia&quot;</td><td>&quot;England&quot;</td><td>2</td><td>1</td><td>&quot;available&quot;</td><td>&quot;scheduled&quot;</td><td>&quot;2023-07-24T13:01:34.707926&quot;</td><td>&quot;2021-06-13T16:17:31.694&quot;</td><td>6</td><td>&quot;Semi-finals&quot;</td><td>&quot;Stadion Luzhniki&quot;</td><td>&quot;Cüneyt Çakιr&quot;</td><td>&quot;Zlatko Dalić&quot;</td><td>&quot;Gareth Southgate&quot;</td><td>&quot;1.0.2&quot;</td><td>null</td><td>null</td></tr><tr><td>8655</td><td>&quot;2018-07-10&quot;</td><td>&quot;20:00:00.000&quot;</td><td>&quot;International - FIFA World Cup&quot;</td><td>&quot;2018&quot;</td><td>&quot;France&quot;</td><td>&quot;Belgium&quot;</td><td>1</td><td>0</td><td>&quot;available&quot;</td><td>&quot;scheduled&quot;</td><td>&quot;2023-07-24T13:00:27.503953&quot;</td><td>&quot;2021-06-13T16:17:31.694&quot;</td><td>6</td><td>&quot;Semi-finals&quot;</td><td>&quot;Saint-Petersburg Stadium&quot;</td><td>&quot;Andrés Cunha&quot;</td><td>&quot;Didier Deschamps&quot;</td><td>&quot;Roberto Martínez Montoliú&quot;</td><td>&quot;1.0.2&quot;</td><td>null</td><td>null</td></tr><tr><td>8651</td><td>&quot;2018-07-07&quot;</td><td>&quot;16:00:00.000&quot;</td><td>&quot;International - FIFA World Cup&quot;</td><td>&quot;2018&quot;</td><td>&quot;Sweden&quot;</td><td>&quot;England&quot;</td><td>0</td><td>2</td><td>&quot;available&quot;</td><td>&quot;scheduled&quot;</td><td>&quot;2023-07-24T13:08:32.098385&quot;</td><td>&quot;2021-06-13T16:17:31.694&quot;</td><td>5</td><td>&quot;Quarter-finals&quot;</td><td>&quot;\tSolidarnost Arena&quot;</td><td>&quot;Björn Kuipers&quot;</td><td>&quot;Jan Olof Andersson&quot;</td><td>&quot;Gareth Southgate&quot;</td><td>&quot;1.0.2&quot;</td><td>null</td><td>null</td></tr><tr><td>&hellip;</td><td>&hellip;</td><td>&hellip;</td><td>&hellip;</td><td>&hellip;</td><td>&hellip;</td><td>&hellip;</td><td>&hellip;</td><td>&hellip;</td><td>&hellip;</td><td>&hellip;</td><td>&hellip;</td><td>&hellip;</td><td>&hellip;</td><td>&hellip;</td><td>&hellip;</td><td>&hellip;</td><td>&hellip;</td><td>&hellip;</td><td>&hellip;</td><td>&hellip;</td><td>&hellip;</td></tr><tr><td>7529</td><td>&quot;2018-06-16&quot;</td><td>&quot;21:00:00.000&quot;</td><td>&quot;International - FIFA World Cup&quot;</td><td>&quot;2018&quot;</td><td>&quot;Croatia&quot;</td><td>&quot;Nigeria&quot;</td><td>2</td><td>0</td><td>&quot;available&quot;</td><td>&quot;scheduled&quot;</td><td>&quot;2023-07-24T12:57:10.686569&quot;</td><td>&quot;2021-06-13T16:17:31.694&quot;</td><td>1</td><td>&quot;Group Stage&quot;</td><td>&quot;Stadion Kaliningrad&quot;</td><td>&quot;Sandro Ricci&quot;</td><td>&quot;Zlatko Dalić&quot;</td><td>&quot;Gernot Rohr&quot;</td><td>&quot;1.0.2&quot;</td><td>null</td><td>null</td></tr><tr><td>7578</td><td>&quot;2018-06-15&quot;</td><td>&quot;14:00:00.000&quot;</td><td>&quot;International - FIFA World Cup&quot;</td><td>&quot;2018&quot;</td><td>&quot;Egypt&quot;</td><td>&quot;Uruguay&quot;</td><td>0</td><td>1</td><td>&quot;available&quot;</td><td>&quot;scheduled&quot;</td><td>&quot;2021-12-06T22:24:47.980215&quot;</td><td>&quot;2021-06-13T16:17:31.694&quot;</td><td>1</td><td>&quot;Group Stage&quot;</td><td>&quot;\tEkaterinburg Arena&quot;</td><td>&quot;Björn Kuipers&quot;</td><td>&quot;Héctor Raúl Cúper&quot;</td><td>&quot;Óscar Washington Tabárez Silva&quot;</td><td>&quot;1.0.2&quot;</td><td>null</td><td>null</td></tr><tr><td>7577</td><td>&quot;2018-06-15&quot;</td><td>&quot;17:00:00.000&quot;</td><td>&quot;International - FIFA World Cup&quot;</td><td>&quot;2018&quot;</td><td>&quot;Morocco&quot;</td><td>&quot;Iran&quot;</td><td>0</td><td>1</td><td>&quot;available&quot;</td><td>&quot;scheduled&quot;</td><td>&quot;2023-07-24T12:54:22.880193&quot;</td><td>&quot;2021-06-13T16:17:31.694&quot;</td><td>1</td><td>&quot;Group Stage&quot;</td><td>&quot;Saint-Petersburg Stadium&quot;</td><td>&quot;Cüneyt Çakιr&quot;</td><td>&quot;Hervé Renard&quot;</td><td>&quot;Carlos Manuel Brito Leal Queir…</td><td>&quot;1.0.2&quot;</td><td>null</td><td>null</td></tr><tr><td>7576</td><td>&quot;2018-06-15&quot;</td><td>&quot;20:00:00.000&quot;</td><td>&quot;International - FIFA World Cup&quot;</td><td>&quot;2018&quot;</td><td>&quot;Portugal&quot;</td><td>&quot;Spain&quot;</td><td>3</td><td>3</td><td>&quot;available&quot;</td><td>&quot;scheduled&quot;</td><td>&quot;2021-12-06T22:30:32.372616&quot;</td><td>&quot;2021-06-13T16:17:31.694&quot;</td><td>1</td><td>&quot;Group Stage&quot;</td><td>&quot;\tOlimpiyskiy Stadion Fisht &quot;</td><td>&quot;Gianluca Rocchi&quot;</td><td>&quot;Fernando Manuel Fernandes da C…</td><td>&quot;Fernando Ruiz Hierro&quot;</td><td>&quot;1.0.2&quot;</td><td>null</td><td>null</td></tr><tr><td>7525</td><td>&quot;2018-06-14&quot;</td><td>&quot;17:00:00.000&quot;</td><td>&quot;International - FIFA World Cup&quot;</td><td>&quot;2018&quot;</td><td>&quot;Russia&quot;</td><td>&quot;Saudi Arabia&quot;</td><td>5</td><td>0</td><td>&quot;available&quot;</td><td>&quot;scheduled&quot;</td><td>&quot;2023-07-24T12:53:37.282409&quot;</td><td>&quot;2021-06-13T16:17:31.694&quot;</td><td>1</td><td>&quot;Group Stage&quot;</td><td>&quot;Stadion Luzhniki&quot;</td><td>&quot;Néstor Fabián Pitana&quot;</td><td>&quot;Stanislav Cherchesov&quot;</td><td>&quot;Juan Antonio Pizzi Torroja&quot;</td><td>&quot;1.0.2&quot;</td><td>null</td><td>null</td></tr></tbody></table></div>"
      ],
      "text/plain": [
       "shape: (64, 22)\n",
       "┌──────────┬───────────┬───────────┬───────────┬───┬───────────┬───────────┬───────────┬───────────┐\n",
       "│ match_id ┆ match_dat ┆ kick_off  ┆ competiti ┆ … ┆ away_mana ┆ data_vers ┆ shot_fide ┆ xy_fideli │\n",
       "│ ---      ┆ e         ┆ ---       ┆ on        ┆   ┆ gers      ┆ ion       ┆ lity_vers ┆ ty_versio │\n",
       "│ i64      ┆ ---       ┆ str       ┆ ---       ┆   ┆ ---       ┆ ---       ┆ ion       ┆ n         │\n",
       "│          ┆ str       ┆           ┆ str       ┆   ┆ str       ┆ str       ┆ ---       ┆ ---       │\n",
       "│          ┆           ┆           ┆           ┆   ┆           ┆           ┆ str       ┆ str       │\n",
       "╞══════════╪═══════════╪═══════════╪═══════════╪═══╪═══════════╪═══════════╪═══════════╪═══════════╡\n",
       "│ 8658     ┆ 2018-07-1 ┆ 17:00:00. ┆ Internati ┆ … ┆ Zlatko    ┆ 1.0.2     ┆ null      ┆ null      │\n",
       "│          ┆ 5         ┆ 000       ┆ onal -    ┆   ┆ Dalić     ┆           ┆           ┆           │\n",
       "│          ┆           ┆           ┆ FIFA      ┆   ┆           ┆           ┆           ┆           │\n",
       "│          ┆           ┆           ┆ World Cup ┆   ┆           ┆           ┆           ┆           │\n",
       "│ 8657     ┆ 2018-07-1 ┆ 16:00:00. ┆ Internati ┆ … ┆ Gareth    ┆ 1.0.2     ┆ null      ┆ null      │\n",
       "│          ┆ 4         ┆ 000       ┆ onal -    ┆   ┆ Southgate ┆           ┆           ┆           │\n",
       "│          ┆           ┆           ┆ FIFA      ┆   ┆           ┆           ┆           ┆           │\n",
       "│          ┆           ┆           ┆ World Cup ┆   ┆           ┆           ┆           ┆           │\n",
       "│ 8656     ┆ 2018-07-1 ┆ 20:00:00. ┆ Internati ┆ … ┆ Gareth    ┆ 1.0.2     ┆ null      ┆ null      │\n",
       "│          ┆ 1         ┆ 000       ┆ onal -    ┆   ┆ Southgate ┆           ┆           ┆           │\n",
       "│          ┆           ┆           ┆ FIFA      ┆   ┆           ┆           ┆           ┆           │\n",
       "│          ┆           ┆           ┆ World Cup ┆   ┆           ┆           ┆           ┆           │\n",
       "│ 8655     ┆ 2018-07-1 ┆ 20:00:00. ┆ Internati ┆ … ┆ Roberto   ┆ 1.0.2     ┆ null      ┆ null      │\n",
       "│          ┆ 0         ┆ 000       ┆ onal -    ┆   ┆ Martínez  ┆           ┆           ┆           │\n",
       "│          ┆           ┆           ┆ FIFA      ┆   ┆ Montoliú  ┆           ┆           ┆           │\n",
       "│          ┆           ┆           ┆ World Cup ┆   ┆           ┆           ┆           ┆           │\n",
       "│ 8651     ┆ 2018-07-0 ┆ 16:00:00. ┆ Internati ┆ … ┆ Gareth    ┆ 1.0.2     ┆ null      ┆ null      │\n",
       "│          ┆ 7         ┆ 000       ┆ onal -    ┆   ┆ Southgate ┆           ┆           ┆           │\n",
       "│          ┆           ┆           ┆ FIFA      ┆   ┆           ┆           ┆           ┆           │\n",
       "│          ┆           ┆           ┆ World Cup ┆   ┆           ┆           ┆           ┆           │\n",
       "│ …        ┆ …         ┆ …         ┆ …         ┆ … ┆ …         ┆ …         ┆ …         ┆ …         │\n",
       "│ 7529     ┆ 2018-06-1 ┆ 21:00:00. ┆ Internati ┆ … ┆ Gernot    ┆ 1.0.2     ┆ null      ┆ null      │\n",
       "│          ┆ 6         ┆ 000       ┆ onal -    ┆   ┆ Rohr      ┆           ┆           ┆           │\n",
       "│          ┆           ┆           ┆ FIFA      ┆   ┆           ┆           ┆           ┆           │\n",
       "│          ┆           ┆           ┆ World Cup ┆   ┆           ┆           ┆           ┆           │\n",
       "│ 7578     ┆ 2018-06-1 ┆ 14:00:00. ┆ Internati ┆ … ┆ Óscar Was ┆ 1.0.2     ┆ null      ┆ null      │\n",
       "│          ┆ 5         ┆ 000       ┆ onal -    ┆   ┆ hington   ┆           ┆           ┆           │\n",
       "│          ┆           ┆           ┆ FIFA      ┆   ┆ Tabárez   ┆           ┆           ┆           │\n",
       "│          ┆           ┆           ┆ World Cup ┆   ┆ Silva     ┆           ┆           ┆           │\n",
       "│ 7577     ┆ 2018-06-1 ┆ 17:00:00. ┆ Internati ┆ … ┆ Carlos    ┆ 1.0.2     ┆ null      ┆ null      │\n",
       "│          ┆ 5         ┆ 000       ┆ onal -    ┆   ┆ Manuel    ┆           ┆           ┆           │\n",
       "│          ┆           ┆           ┆ FIFA      ┆   ┆ Brito     ┆           ┆           ┆           │\n",
       "│          ┆           ┆           ┆ World Cup ┆   ┆ Leal      ┆           ┆           ┆           │\n",
       "│          ┆           ┆           ┆           ┆   ┆ Queir…    ┆           ┆           ┆           │\n",
       "│ 7576     ┆ 2018-06-1 ┆ 20:00:00. ┆ Internati ┆ … ┆ Fernando  ┆ 1.0.2     ┆ null      ┆ null      │\n",
       "│          ┆ 5         ┆ 000       ┆ onal -    ┆   ┆ Ruiz      ┆           ┆           ┆           │\n",
       "│          ┆           ┆           ┆ FIFA      ┆   ┆ Hierro    ┆           ┆           ┆           │\n",
       "│          ┆           ┆           ┆ World Cup ┆   ┆           ┆           ┆           ┆           │\n",
       "│ 7525     ┆ 2018-06-1 ┆ 17:00:00. ┆ Internati ┆ … ┆ Juan      ┆ 1.0.2     ┆ null      ┆ null      │\n",
       "│          ┆ 4         ┆ 000       ┆ onal -    ┆   ┆ Antonio   ┆           ┆           ┆           │\n",
       "│          ┆           ┆           ┆ FIFA      ┆   ┆ Pizzi     ┆           ┆           ┆           │\n",
       "│          ┆           ┆           ┆ World Cup ┆   ┆ Torroja   ┆           ┆           ┆           │\n",
       "└──────────┴───────────┴───────────┴───────────┴───┴───────────┴───────────┴───────────┴───────────┘"
      ]
     },
     "execution_count": 75,
     "metadata": {},
     "output_type": "execute_result"
    }
   ],
   "source": [
    "wc2018_matches"
   ]
  },
  {
   "cell_type": "code",
   "execution_count": 76,
   "id": "98e6df03",
   "metadata": {},
   "outputs": [
    {
     "data": {
      "text/plain": [
       "[8658,\n",
       " 8657,\n",
       " 8656,\n",
       " 8655,\n",
       " 8651,\n",
       " 8652,\n",
       " 8649,\n",
       " 8650,\n",
       " 7585,\n",
       " 7586,\n",
       " 7584,\n",
       " 7583,\n",
       " 7581,\n",
       " 7582,\n",
       " 7579,\n",
       " 7580,\n",
       " 7570,\n",
       " 7571,\n",
       " 7569,\n",
       " 7572,\n",
       " 7565,\n",
       " 7566,\n",
       " 7567,\n",
       " 7568,\n",
       " 7561,\n",
       " 7564,\n",
       " 7563,\n",
       " 7562,\n",
       " 7560,\n",
       " 7558,\n",
       " 7559,\n",
       " 7557,\n",
       " 7554,\n",
       " 7556,\n",
       " 7555,\n",
       " 7551,\n",
       " 7552,\n",
       " 7553,\n",
       " 7548,\n",
       " 7549,\n",
       " 7550,\n",
       " 7546,\n",
       " 7545,\n",
       " 7547,\n",
       " 7543,\n",
       " 7544,\n",
       " 7542,\n",
       " 7539,\n",
       " 7541,\n",
       " 7540,\n",
       " 7536,\n",
       " 7537,\n",
       " 7538,\n",
       " 7535,\n",
       " 7533,\n",
       " 7534,\n",
       " 7530,\n",
       " 7532,\n",
       " 7531,\n",
       " 7529,\n",
       " 7578,\n",
       " 7577,\n",
       " 7576,\n",
       " 7525]"
      ]
     },
     "execution_count": 76,
     "metadata": {},
     "output_type": "execute_result"
    }
   ],
   "source": [
    "wc2018_matches[\"match_id\"].to_list()"
   ]
  },
  {
   "cell_type": "code",
   "execution_count": 77,
   "id": "a44c24ae",
   "metadata": {},
   "outputs": [
    {
     "data": {
      "text/html": [
       "<div><style>\n",
       ".dataframe > thead > tr,\n",
       ".dataframe > tbody > tr {\n",
       "  text-align: right;\n",
       "  white-space: pre-wrap;\n",
       "}\n",
       "</style>\n",
       "<small>shape: (2_978, 77)</small><table border=\"1\" class=\"dataframe\"><thead><tr><th>ball_receipt_outcome</th><th>ball_recovery_recovery_failure</th><th>block_deflection</th><th>carry_end_location</th><th>clearance_aerial_won</th><th>counterpress</th><th>dribble_outcome</th><th>dribble_overrun</th><th>duel_outcome</th><th>duel_type</th><th>duration</th><th>foul_committed_advantage</th><th>foul_committed_card</th><th>foul_committed_penalty</th><th>foul_committed_type</th><th>foul_won_advantage</th><th>foul_won_defensive</th><th>goalkeeper_body_part</th><th>goalkeeper_end_location</th><th>goalkeeper_outcome</th><th>goalkeeper_position</th><th>goalkeeper_technique</th><th>goalkeeper_type</th><th>id</th><th>index</th><th>injury_stoppage_in_chain</th><th>interception_outcome</th><th>location</th><th>match_id</th><th>minute</th><th>pass_aerial_won</th><th>pass_angle</th><th>pass_assisted_shot_id</th><th>pass_backheel</th><th>pass_body_part</th><th>pass_cross</th><th>pass_cut_back</th><th>&hellip;</th><th>pass_height</th><th>pass_length</th><th>pass_outcome</th><th>pass_recipient</th><th>pass_recipient_id</th><th>pass_shot_assist</th><th>pass_switch</th><th>pass_type</th><th>period</th><th>play_pattern</th><th>player</th><th>player_id</th><th>position</th><th>possession</th><th>possession_team</th><th>possession_team_id</th><th>related_events</th><th>second</th><th>shot_aerial_won</th><th>shot_body_part</th><th>shot_deflected</th><th>shot_end_location</th><th>shot_first_time</th><th>shot_freeze_frame</th><th>shot_key_pass_id</th><th>shot_outcome</th><th>shot_statsbomb_xg</th><th>shot_technique</th><th>shot_type</th><th>substitution_outcome</th><th>substitution_replacement</th><th>tactics</th><th>team</th><th>team_id</th><th>timestamp</th><th>type</th><th>under_pressure</th></tr><tr><td>str</td><td>bool</td><td>bool</td><td>list[f64]</td><td>bool</td><td>bool</td><td>str</td><td>bool</td><td>str</td><td>str</td><td>f64</td><td>bool</td><td>str</td><td>bool</td><td>str</td><td>bool</td><td>bool</td><td>str</td><td>list[f64]</td><td>str</td><td>str</td><td>str</td><td>str</td><td>str</td><td>i64</td><td>bool</td><td>str</td><td>list[f64]</td><td>i64</td><td>i64</td><td>bool</td><td>f64</td><td>str</td><td>bool</td><td>str</td><td>bool</td><td>bool</td><td>&hellip;</td><td>str</td><td>f64</td><td>str</td><td>str</td><td>f64</td><td>bool</td><td>bool</td><td>str</td><td>i64</td><td>str</td><td>str</td><td>f64</td><td>str</td><td>i64</td><td>str</td><td>i64</td><td>list[str]</td><td>i64</td><td>bool</td><td>str</td><td>bool</td><td>list[f64]</td><td>bool</td><td>list[struct[4]]</td><td>str</td><td>str</td><td>f64</td><td>str</td><td>str</td><td>str</td><td>str</td><td>struct[2]</td><td>str</td><td>i64</td><td>str</td><td>str</td><td>bool</td></tr></thead><tbody><tr><td>null</td><td>null</td><td>null</td><td>null</td><td>null</td><td>null</td><td>null</td><td>null</td><td>null</td><td>null</td><td>0.0</td><td>null</td><td>null</td><td>null</td><td>null</td><td>null</td><td>null</td><td>null</td><td>null</td><td>null</td><td>null</td><td>null</td><td>null</td><td>&quot;4a44199a-3111-4e28-b567-9c1393…</td><td>1</td><td>null</td><td>null</td><td>null</td><td>8658</td><td>0</td><td>null</td><td>null</td><td>null</td><td>null</td><td>null</td><td>null</td><td>null</td><td>&hellip;</td><td>null</td><td>null</td><td>null</td><td>null</td><td>null</td><td>null</td><td>null</td><td>null</td><td>1</td><td>&quot;Regular Play&quot;</td><td>null</td><td>null</td><td>null</td><td>1</td><td>&quot;France&quot;</td><td>771</td><td>null</td><td>0</td><td>null</td><td>null</td><td>null</td><td>null</td><td>null</td><td>null</td><td>null</td><td>null</td><td>null</td><td>null</td><td>null</td><td>null</td><td>null</td><td>{442,[{1,{3099,&quot;Hugo Lloris&quot;},{1,&quot;Goalkeeper&quot;}}, {2,{5476,&quot;Benjamin Pavard&quot;},{2,&quot;Right Back&quot;}}, … {9,{3604,&quot;Olivier Giroud&quot;},{24,&quot;Left Center Forward&quot;}}]}</td><td>&quot;France&quot;</td><td>771</td><td>&quot;00:00:00.000&quot;</td><td>&quot;Starting XI&quot;</td><td>null</td></tr><tr><td>null</td><td>null</td><td>null</td><td>null</td><td>null</td><td>null</td><td>null</td><td>null</td><td>null</td><td>null</td><td>1.412</td><td>null</td><td>null</td><td>null</td><td>null</td><td>null</td><td>null</td><td>null</td><td>null</td><td>null</td><td>null</td><td>null</td><td>null</td><td>&quot;2137ed27-042c-4d73-877c-75d044…</td><td>2</td><td>null</td><td>null</td><td>null</td><td>8658</td><td>0</td><td>null</td><td>null</td><td>null</td><td>null</td><td>null</td><td>null</td><td>null</td><td>&hellip;</td><td>null</td><td>null</td><td>null</td><td>null</td><td>null</td><td>null</td><td>null</td><td>null</td><td>1</td><td>&quot;Regular Play&quot;</td><td>null</td><td>null</td><td>null</td><td>1</td><td>&quot;France&quot;</td><td>771</td><td>null</td><td>0</td><td>null</td><td>null</td><td>null</td><td>null</td><td>null</td><td>null</td><td>null</td><td>null</td><td>null</td><td>null</td><td>null</td><td>null</td><td>null</td><td>{433,[{23,{3444,&quot;Danijel Subašić&quot;},{1,&quot;Goalkeeper&quot;}}, {2,{5461,&quot;Šime Vrsaljko&quot;},{2,&quot;Right Back&quot;}}, … {17,{5472,&quot;Mario Mandžukić&quot;},{23,&quot;Center Forward&quot;}}]}</td><td>&quot;Croatia&quot;</td><td>785</td><td>&quot;00:00:00.000&quot;</td><td>&quot;Starting XI&quot;</td><td>null</td></tr><tr><td>null</td><td>null</td><td>null</td><td>null</td><td>null</td><td>null</td><td>null</td><td>null</td><td>null</td><td>null</td><td>0.0</td><td>null</td><td>null</td><td>null</td><td>null</td><td>null</td><td>null</td><td>null</td><td>null</td><td>null</td><td>null</td><td>null</td><td>null</td><td>&quot;531c8cbd-7a3e-4e46-91c1-549a98…</td><td>3</td><td>null</td><td>null</td><td>null</td><td>8658</td><td>0</td><td>null</td><td>null</td><td>null</td><td>null</td><td>null</td><td>null</td><td>null</td><td>&hellip;</td><td>null</td><td>null</td><td>null</td><td>null</td><td>null</td><td>null</td><td>null</td><td>null</td><td>1</td><td>&quot;Regular Play&quot;</td><td>null</td><td>null</td><td>null</td><td>1</td><td>&quot;France&quot;</td><td>771</td><td>[&quot;9b9060d4-13a5-4a44-aafa-2221ed10a8bc&quot;]</td><td>0</td><td>null</td><td>null</td><td>null</td><td>null</td><td>null</td><td>null</td><td>null</td><td>null</td><td>null</td><td>null</td><td>null</td><td>null</td><td>null</td><td>null</td><td>&quot;France&quot;</td><td>771</td><td>&quot;00:00:00.000&quot;</td><td>&quot;Half Start&quot;</td><td>null</td></tr><tr><td>null</td><td>null</td><td>null</td><td>null</td><td>null</td><td>null</td><td>null</td><td>null</td><td>null</td><td>null</td><td>0.0</td><td>null</td><td>null</td><td>null</td><td>null</td><td>null</td><td>null</td><td>null</td><td>null</td><td>null</td><td>null</td><td>null</td><td>null</td><td>&quot;9b9060d4-13a5-4a44-aafa-2221ed…</td><td>4</td><td>null</td><td>null</td><td>null</td><td>8658</td><td>0</td><td>null</td><td>null</td><td>null</td><td>null</td><td>null</td><td>null</td><td>null</td><td>&hellip;</td><td>null</td><td>null</td><td>null</td><td>null</td><td>null</td><td>null</td><td>null</td><td>null</td><td>1</td><td>&quot;Regular Play&quot;</td><td>null</td><td>null</td><td>null</td><td>1</td><td>&quot;France&quot;</td><td>771</td><td>[&quot;531c8cbd-7a3e-4e46-91c1-549a98c27bcb&quot;]</td><td>0</td><td>null</td><td>null</td><td>null</td><td>null</td><td>null</td><td>null</td><td>null</td><td>null</td><td>null</td><td>null</td><td>null</td><td>null</td><td>null</td><td>null</td><td>&quot;Croatia&quot;</td><td>785</td><td>&quot;00:00:00.000&quot;</td><td>&quot;Half Start&quot;</td><td>null</td></tr><tr><td>null</td><td>null</td><td>null</td><td>null</td><td>null</td><td>null</td><td>null</td><td>null</td><td>null</td><td>null</td><td>0.0</td><td>null</td><td>null</td><td>null</td><td>null</td><td>null</td><td>null</td><td>null</td><td>null</td><td>null</td><td>null</td><td>null</td><td>null</td><td>&quot;222f623b-cc3b-4a58-932e-7ca094…</td><td>1333</td><td>null</td><td>null</td><td>null</td><td>8658</td><td>45</td><td>null</td><td>null</td><td>null</td><td>null</td><td>null</td><td>null</td><td>null</td><td>&hellip;</td><td>null</td><td>null</td><td>null</td><td>null</td><td>null</td><td>null</td><td>null</td><td>null</td><td>2</td><td>&quot;From Free Kick&quot;</td><td>null</td><td>null</td><td>null</td><td>91</td><td>&quot;France&quot;</td><td>771</td><td>[&quot;b024cda0-5ab7-479c-a70e-1b8c6f7a9d6d&quot;]</td><td>0</td><td>null</td><td>null</td><td>null</td><td>null</td><td>null</td><td>null</td><td>null</td><td>null</td><td>null</td><td>null</td><td>null</td><td>null</td><td>null</td><td>null</td><td>&quot;Croatia&quot;</td><td>785</td><td>&quot;00:00:00.000&quot;</td><td>&quot;Half Start&quot;</td><td>null</td></tr><tr><td>&hellip;</td><td>&hellip;</td><td>&hellip;</td><td>&hellip;</td><td>&hellip;</td><td>&hellip;</td><td>&hellip;</td><td>&hellip;</td><td>&hellip;</td><td>&hellip;</td><td>&hellip;</td><td>&hellip;</td><td>&hellip;</td><td>&hellip;</td><td>&hellip;</td><td>&hellip;</td><td>&hellip;</td><td>&hellip;</td><td>&hellip;</td><td>&hellip;</td><td>&hellip;</td><td>&hellip;</td><td>&hellip;</td><td>&hellip;</td><td>&hellip;</td><td>&hellip;</td><td>&hellip;</td><td>&hellip;</td><td>&hellip;</td><td>&hellip;</td><td>&hellip;</td><td>&hellip;</td><td>&hellip;</td><td>&hellip;</td><td>&hellip;</td><td>&hellip;</td><td>&hellip;</td><td>&hellip;</td><td>&hellip;</td><td>&hellip;</td><td>&hellip;</td><td>&hellip;</td><td>&hellip;</td><td>&hellip;</td><td>&hellip;</td><td>&hellip;</td><td>&hellip;</td><td>&hellip;</td><td>&hellip;</td><td>&hellip;</td><td>&hellip;</td><td>&hellip;</td><td>&hellip;</td><td>&hellip;</td><td>&hellip;</td><td>&hellip;</td><td>&hellip;</td><td>&hellip;</td><td>&hellip;</td><td>&hellip;</td><td>&hellip;</td><td>&hellip;</td><td>&hellip;</td><td>&hellip;</td><td>&hellip;</td><td>&hellip;</td><td>&hellip;</td><td>&hellip;</td><td>&hellip;</td><td>&hellip;</td><td>&hellip;</td><td>&hellip;</td><td>&hellip;</td><td>&hellip;</td><td>&hellip;</td></tr><tr><td>null</td><td>null</td><td>null</td><td>null</td><td>null</td><td>null</td><td>null</td><td>null</td><td>null</td><td>null</td><td>0.0</td><td>null</td><td>null</td><td>null</td><td>null</td><td>null</td><td>null</td><td>null</td><td>null</td><td>null</td><td>null</td><td>null</td><td>null</td><td>&quot;057ea801-4561-44bb-8152-adfb59…</td><td>2254</td><td>null</td><td>null</td><td>null</td><td>8658</td><td>72</td><td>null</td><td>null</td><td>null</td><td>null</td><td>null</td><td>null</td><td>null</td><td>&hellip;</td><td>null</td><td>null</td><td>null</td><td>null</td><td>null</td><td>null</td><td>null</td><td>null</td><td>2</td><td>&quot;Other&quot;</td><td>&quot;Blaise Matuidi&quot;</td><td>4375.0</td><td>&quot;Left Midfield&quot;</td><td>141</td><td>&quot;France&quot;</td><td>771</td><td>null</td><td>51</td><td>null</td><td>null</td><td>null</td><td>null</td><td>null</td><td>null</td><td>null</td><td>null</td><td>null</td><td>null</td><td>null</td><td>&quot;Tactical&quot;</td><td>&quot;Corentin Tolisso&quot;</td><td>null</td><td>&quot;France&quot;</td><td>771</td><td>&quot;00:27:51.840&quot;</td><td>&quot;Substitution&quot;</td><td>null</td></tr><tr><td>null</td><td>null</td><td>null</td><td>null</td><td>null</td><td>null</td><td>null</td><td>null</td><td>null</td><td>null</td><td>0.0</td><td>null</td><td>null</td><td>null</td><td>null</td><td>null</td><td>null</td><td>null</td><td>null</td><td>null</td><td>null</td><td>null</td><td>null</td><td>&quot;14d85fb0-1543-439c-af58-294b96…</td><td>2570</td><td>null</td><td>null</td><td>null</td><td>8658</td><td>80</td><td>null</td><td>null</td><td>null</td><td>null</td><td>null</td><td>null</td><td>null</td><td>&hellip;</td><td>null</td><td>null</td><td>null</td><td>null</td><td>null</td><td>null</td><td>null</td><td>null</td><td>2</td><td>&quot;Regular Play&quot;</td><td>&quot;Ivan Strinić&quot;</td><td>5457.0</td><td>&quot;Left Back&quot;</td><td>154</td><td>&quot;Croatia&quot;</td><td>785</td><td>null</td><td>50</td><td>null</td><td>null</td><td>null</td><td>null</td><td>null</td><td>null</td><td>null</td><td>null</td><td>null</td><td>null</td><td>null</td><td>&quot;Tactical&quot;</td><td>&quot;Marko Pjaca&quot;</td><td>null</td><td>&quot;Croatia&quot;</td><td>785</td><td>&quot;00:35:50.467&quot;</td><td>&quot;Substitution&quot;</td><td>null</td></tr><tr><td>null</td><td>null</td><td>null</td><td>null</td><td>null</td><td>null</td><td>null</td><td>null</td><td>null</td><td>null</td><td>0.0</td><td>null</td><td>null</td><td>null</td><td>null</td><td>null</td><td>null</td><td>null</td><td>null</td><td>null</td><td>null</td><td>null</td><td>null</td><td>&quot;4bb3f73b-c6a5-4067-9c9a-7131ec…</td><td>2571</td><td>null</td><td>null</td><td>null</td><td>8658</td><td>80</td><td>null</td><td>null</td><td>null</td><td>null</td><td>null</td><td>null</td><td>null</td><td>&hellip;</td><td>null</td><td>null</td><td>null</td><td>null</td><td>null</td><td>null</td><td>null</td><td>null</td><td>2</td><td>&quot;Regular Play&quot;</td><td>&quot;Olivier Giroud&quot;</td><td>3604.0</td><td>&quot;Left Center Forward&quot;</td><td>154</td><td>&quot;Croatia&quot;</td><td>785</td><td>null</td><td>57</td><td>null</td><td>null</td><td>null</td><td>null</td><td>null</td><td>null</td><td>null</td><td>null</td><td>null</td><td>null</td><td>null</td><td>&quot;Tactical&quot;</td><td>&quot;Nabil Fekir&quot;</td><td>null</td><td>&quot;France&quot;</td><td>771</td><td>&quot;00:35:57.787&quot;</td><td>&quot;Substitution&quot;</td><td>null</td></tr><tr><td>null</td><td>null</td><td>null</td><td>null</td><td>null</td><td>null</td><td>null</td><td>null</td><td>null</td><td>null</td><td>0.0</td><td>null</td><td>null</td><td>null</td><td>null</td><td>null</td><td>null</td><td>null</td><td>null</td><td>null</td><td>null</td><td>null</td><td>null</td><td>&quot;150abd4d-aa10-44a5-96d6-69652b…</td><td>2172</td><td>null</td><td>null</td><td>[6.0, 36.0]</td><td>8658</td><td>68</td><td>null</td><td>null</td><td>null</td><td>null</td><td>null</td><td>null</td><td>null</td><td>&hellip;</td><td>null</td><td>null</td><td>null</td><td>null</td><td>null</td><td>null</td><td>null</td><td>null</td><td>2</td><td>&quot;Regular Play&quot;</td><td>&quot;Hugo Lloris&quot;</td><td>3099.0</td><td>&quot;Goalkeeper&quot;</td><td>136</td><td>&quot;Croatia&quot;</td><td>785</td><td>null</td><td>8</td><td>null</td><td>null</td><td>null</td><td>null</td><td>null</td><td>null</td><td>null</td><td>null</td><td>null</td><td>null</td><td>null</td><td>null</td><td>null</td><td>null</td><td>&quot;France&quot;</td><td>771</td><td>&quot;00:23:08.400&quot;</td><td>&quot;Error&quot;</td><td>null</td></tr><tr><td>null</td><td>null</td><td>null</td><td>null</td><td>null</td><td>null</td><td>null</td><td>null</td><td>null</td><td>null</td><td>0.0</td><td>null</td><td>null</td><td>null</td><td>null</td><td>null</td><td>null</td><td>null</td><td>null</td><td>null</td><td>null</td><td>null</td><td>null</td><td>&quot;66bfa0a6-fab1-4f76-aadd-d896b9…</td><td>2572</td><td>null</td><td>null</td><td>null</td><td>8658</td><td>81</td><td>null</td><td>null</td><td>null</td><td>null</td><td>null</td><td>null</td><td>null</td><td>&hellip;</td><td>null</td><td>null</td><td>null</td><td>null</td><td>null</td><td>null</td><td>null</td><td>null</td><td>2</td><td>&quot;Regular Play&quot;</td><td>null</td><td>null</td><td>null</td><td>154</td><td>&quot;Croatia&quot;</td><td>785</td><td>null</td><td>11</td><td>null</td><td>null</td><td>null</td><td>null</td><td>null</td><td>null</td><td>null</td><td>null</td><td>null</td><td>null</td><td>null</td><td>null</td><td>null</td><td>{442,[{1,{3099,&quot;Hugo Lloris&quot;},{1,&quot;Goalkeeper&quot;}}, {2,{5476,&quot;Benjamin Pavard&quot;},{2,&quot;Right Back&quot;}}, … {7,{5487,&quot;Antoine Griezmann&quot;},{24,&quot;Left Center Forward&quot;}}]}</td><td>&quot;France&quot;</td><td>771</td><td>&quot;00:36:11.388&quot;</td><td>&quot;Tactical Shift&quot;</td><td>null</td></tr></tbody></table></div>"
      ],
      "text/plain": [
       "shape: (2_978, 77)\n",
       "┌────────────┬───────────┬───────────┬───────────┬───┬─────────┬───────────┬───────────┬───────────┐\n",
       "│ ball_recei ┆ ball_reco ┆ block_def ┆ carry_end ┆ … ┆ team_id ┆ timestamp ┆ type      ┆ under_pre │\n",
       "│ pt_outcome ┆ very_reco ┆ lection   ┆ _location ┆   ┆ ---     ┆ ---       ┆ ---       ┆ ssure     │\n",
       "│ ---        ┆ very_fail ┆ ---       ┆ ---       ┆   ┆ i64     ┆ str       ┆ str       ┆ ---       │\n",
       "│ str        ┆ ure       ┆ bool      ┆ list[f64] ┆   ┆         ┆           ┆           ┆ bool      │\n",
       "│            ┆ ---       ┆           ┆           ┆   ┆         ┆           ┆           ┆           │\n",
       "│            ┆ bool      ┆           ┆           ┆   ┆         ┆           ┆           ┆           │\n",
       "╞════════════╪═══════════╪═══════════╪═══════════╪═══╪═════════╪═══════════╪═══════════╪═══════════╡\n",
       "│ null       ┆ null      ┆ null      ┆ null      ┆ … ┆ 771     ┆ 00:00:00. ┆ Starting  ┆ null      │\n",
       "│            ┆           ┆           ┆           ┆   ┆         ┆ 000       ┆ XI        ┆           │\n",
       "│ null       ┆ null      ┆ null      ┆ null      ┆ … ┆ 785     ┆ 00:00:00. ┆ Starting  ┆ null      │\n",
       "│            ┆           ┆           ┆           ┆   ┆         ┆ 000       ┆ XI        ┆           │\n",
       "│ null       ┆ null      ┆ null      ┆ null      ┆ … ┆ 771     ┆ 00:00:00. ┆ Half      ┆ null      │\n",
       "│            ┆           ┆           ┆           ┆   ┆         ┆ 000       ┆ Start     ┆           │\n",
       "│ null       ┆ null      ┆ null      ┆ null      ┆ … ┆ 785     ┆ 00:00:00. ┆ Half      ┆ null      │\n",
       "│            ┆           ┆           ┆           ┆   ┆         ┆ 000       ┆ Start     ┆           │\n",
       "│ null       ┆ null      ┆ null      ┆ null      ┆ … ┆ 785     ┆ 00:00:00. ┆ Half      ┆ null      │\n",
       "│            ┆           ┆           ┆           ┆   ┆         ┆ 000       ┆ Start     ┆           │\n",
       "│ …          ┆ …         ┆ …         ┆ …         ┆ … ┆ …       ┆ …         ┆ …         ┆ …         │\n",
       "│ null       ┆ null      ┆ null      ┆ null      ┆ … ┆ 771     ┆ 00:27:51. ┆ Substitut ┆ null      │\n",
       "│            ┆           ┆           ┆           ┆   ┆         ┆ 840       ┆ ion       ┆           │\n",
       "│ null       ┆ null      ┆ null      ┆ null      ┆ … ┆ 785     ┆ 00:35:50. ┆ Substitut ┆ null      │\n",
       "│            ┆           ┆           ┆           ┆   ┆         ┆ 467       ┆ ion       ┆           │\n",
       "│ null       ┆ null      ┆ null      ┆ null      ┆ … ┆ 771     ┆ 00:35:57. ┆ Substitut ┆ null      │\n",
       "│            ┆           ┆           ┆           ┆   ┆         ┆ 787       ┆ ion       ┆           │\n",
       "│ null       ┆ null      ┆ null      ┆ null      ┆ … ┆ 771     ┆ 00:23:08. ┆ Error     ┆ null      │\n",
       "│            ┆           ┆           ┆           ┆   ┆         ┆ 400       ┆           ┆           │\n",
       "│ null       ┆ null      ┆ null      ┆ null      ┆ … ┆ 771     ┆ 00:36:11. ┆ Tactical  ┆ null      │\n",
       "│            ┆           ┆           ┆           ┆   ┆         ┆ 388       ┆ Shift     ┆           │\n",
       "└────────────┴───────────┴───────────┴───────────┴───┴─────────┴───────────┴───────────┴───────────┘"
      ]
     },
     "execution_count": 77,
     "metadata": {},
     "output_type": "execute_result"
    }
   ],
   "source": [
    "all_events = pl.DataFrame()\n",
    "\n",
    "all_match_ids = wc2018_matches[\"match_id\"].to_list()\n",
    "\n",
    "for match_id in all_match_ids:\n",
    "    match_events_df = sb.events(match_id=match_id)\n",
    "    match_events = pl.from_pandas(match_events_df)\n",
    "    all_events = pl.concat([all_events, match_events])\n",
    "    break\n",
    "\n",
    "all_events"
   ]
  },
  {
   "cell_type": "code",
   "execution_count": 78,
   "id": "52e10c87",
   "metadata": {},
   "outputs": [],
   "source": [
    "transition_matrix = np.zeros((GRID_X, GRID_Y, GRID_X, GRID_Y))"
   ]
  },
  {
   "cell_type": "code",
   "execution_count": 79,
   "id": "d290cc75",
   "metadata": {},
   "outputs": [],
   "source": [
    "# Extract relevant passes and carries\n",
    "passes = all_events.filter(all_events[\"type\"] == \"Pass\")\n",
    "carries = all_events.filter(all_events[\"type\"] == \"Carry\")\n",
    "\n",
    "# Define actions and shots\n",
    "actions = pl.concat([passes, carries])\n",
    "shots = all_events.filter(all_events[\"type\"] == \"Shot\")"
   ]
  },
  {
   "cell_type": "code",
   "execution_count": 80,
   "id": "bd58915e",
   "metadata": {},
   "outputs": [],
   "source": [
    "xT = np.zeros((GRID_X, GRID_Y, GRID_X, GRID_Y))\n",
    "S = np.zeros((GRID_X, GRID_Y))  # shot counts\n",
    "M = np.zeros((GRID_X, GRID_Y))  # move counts"
   ]
  },
  {
   "cell_type": "code",
   "execution_count": 81,
   "id": "635ef913",
   "metadata": {},
   "outputs": [
    {
     "name": "stdout",
     "output_type": "stream",
     "text": [
      "['ball_receipt_outcome', 'ball_recovery_recovery_failure', 'block_deflection', 'carry_end_location', 'clearance_aerial_won', 'counterpress', 'dribble_outcome', 'dribble_overrun', 'duel_outcome', 'duel_type', 'duration', 'foul_committed_advantage', 'foul_committed_card', 'foul_committed_penalty', 'foul_committed_type', 'foul_won_advantage', 'foul_won_defensive', 'goalkeeper_body_part', 'goalkeeper_end_location', 'goalkeeper_outcome', 'goalkeeper_position', 'goalkeeper_technique', 'goalkeeper_type', 'id', 'index', 'injury_stoppage_in_chain', 'interception_outcome', 'location', 'match_id', 'minute', 'pass_aerial_won', 'pass_angle', 'pass_assisted_shot_id', 'pass_backheel', 'pass_body_part', 'pass_cross', 'pass_cut_back', 'pass_deflected', 'pass_end_location', 'pass_goal_assist', 'pass_height', 'pass_length', 'pass_outcome', 'pass_recipient', 'pass_recipient_id', 'pass_shot_assist', 'pass_switch', 'pass_type', 'period', 'play_pattern', 'player', 'player_id', 'position', 'possession', 'possession_team', 'possession_team_id', 'related_events', 'second', 'shot_aerial_won', 'shot_body_part', 'shot_deflected', 'shot_end_location', 'shot_first_time', 'shot_freeze_frame', 'shot_key_pass_id', 'shot_outcome', 'shot_statsbomb_xg', 'shot_technique', 'shot_type', 'substitution_outcome', 'substitution_replacement', 'tactics', 'team', 'team_id', 'timestamp', 'type', 'under_pressure']\n"
     ]
    }
   ],
   "source": [
    "print(actions.columns)"
   ]
  },
  {
   "cell_type": "code",
   "execution_count": 82,
   "id": "e9e41127",
   "metadata": {},
   "outputs": [],
   "source": [
    "for action in actions.iter_rows(named=True):\n",
    "    start_x, start_y = action[\"location\"]\n",
    "\n",
    "    end = (\n",
    "        action.get(\"pass_end_location\")\n",
    "        if isinstance(action.get(\"pass_end_location\"), list)\n",
    "        else action.get(\"carry_end_location\")\n",
    "    )\n",
    "    if not isinstance(end, list):\n",
    "        continue\n",
    "    end_x, end_y = end\n",
    "\n",
    "    sx, sy = get_grid_cell(start_x, start_y, x_bins, y_bins)\n",
    "    ex, ey = get_grid_cell(end_x, end_y, x_bins, y_bins)\n",
    "    break"
   ]
  },
  {
   "cell_type": "code",
   "execution_count": 84,
   "id": "bbcc0f88",
   "metadata": {},
   "outputs": [
    {
     "data": {
      "text/plain": [
       "7"
      ]
     },
     "execution_count": 84,
     "metadata": {},
     "output_type": "execute_result"
    }
   ],
   "source": [
    "ex"
   ]
  }
 ],
 "metadata": {
  "kernelspec": {
   "display_name": "ddsa",
   "language": "python",
   "name": "python3"
  },
  "language_info": {
   "codemirror_mode": {
    "name": "ipython",
    "version": 3
   },
   "file_extension": ".py",
   "mimetype": "text/x-python",
   "name": "python",
   "nbconvert_exporter": "python",
   "pygments_lexer": "ipython3",
   "version": "3.11.10"
  }
 },
 "nbformat": 4,
 "nbformat_minor": 5
}
