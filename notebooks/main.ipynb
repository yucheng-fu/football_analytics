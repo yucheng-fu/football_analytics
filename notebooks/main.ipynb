{
 "cells": [
  {
   "cell_type": "code",
   "execution_count": null,
   "metadata": {},
   "outputs": [],
   "source": [
    "from statsbombpy import sb\n",
    "import mplsoccer as mpl\n",
    "from kloppy import metrica\n",
    "import numpy as np\n",
    "import matplotlib.pyplot as plt"
   ]
  },
  {
   "cell_type": "markdown",
   "metadata": {},
   "source": [
    "# Colors"
   ]
  },
  {
   "cell_type": "code",
   "execution_count": null,
   "metadata": {},
   "outputs": [],
   "source": [
    "from matplotlib.colors import ListedColormap\n",
    "def bulid_cmap(x, y):\n",
    "    r,g,b = x\n",
    "    r_, g_, b_ = y\n",
    "    N = 256\n",
    "    A = np.ones((N, 4))\n",
    "    A[:, 0] = np.linspace(r, 1, N)\n",
    "    A[:, 1] = np.linspace(g, 1, N)\n",
    "    A[:, 2] = np.linspace(b, 1, N)\n",
    "    cmp = ListedColormap(A)\n",
    "    \n",
    "    B = np.ones((N, 4))\n",
    "    B[:, 0] = np.linspace(r_, 1, N)\n",
    "    B[:, 1] = np.linspace(g_, 1, N)\n",
    "    B[:, 2] = np.linspace(b_, 1, N)\n",
    "    cmp_ = ListedColormap(B)\n",
    "    \n",
    "    newcolors = np.vstack((cmp(np.linspace(0, 1, 128)),\n",
    "                            cmp_(np.linspace(1, 0, 128))))\n",
    "    return ListedColormap(newcolors)\n",
    "blue, red = (44,123,182), (215,25,28)\n",
    "blue = [x/256 for x in blue]\n",
    "red = [x/256 for x in red]\n",
    "diverging = bulid_cmap(blue, red)\n",
    "diverging_r = bulid_cmap(red, blue)\n",
    "\n",
    "figsize = (9, 6)"
   ]
  },
  {
   "cell_type": "code",
   "execution_count": null,
   "metadata": {},
   "outputs": [],
   "source": []
  },
  {
   "cell_type": "markdown",
   "metadata": {},
   "source": [
    "Let's find the 2018 World cup\n"
   ]
  },
  {
   "cell_type": "code",
   "execution_count": null,
   "metadata": {},
   "outputs": [],
   "source": [
    "comps = sb.competitions()\n",
    "comps.loc[(comps['competition_international'] == True)  & (comps['competition_gender'] == \"male\")].sort_values(by='season_name', ascending=False)"
   ]
  },
  {
   "cell_type": "code",
   "execution_count": null,
   "metadata": {},
   "outputs": [],
   "source": [
    "comps[comps['country_name'] == 'Germany']"
   ]
  },
  {
   "cell_type": "markdown",
   "metadata": {},
   "source": [
    "Let's have a look at France's matches."
   ]
  },
  {
   "cell_type": "code",
   "execution_count": null,
   "metadata": {},
   "outputs": [],
   "source": [
    "matches = sb.matches(competition_id=43, season_id=3).sort_values('match_date', ascending=False)\n",
    "france_matches = matches.loc[(matches['home_team'] == 'France') | (matches['away_team'] == 'France')]\n",
    "france_matches"
   ]
  },
  {
   "cell_type": "markdown",
   "metadata": {},
   "source": [
    "4-3 in the Round of 16, that was a good game."
   ]
  },
  {
   "cell_type": "code",
   "execution_count": null,
   "metadata": {},
   "outputs": [],
   "source": [
    "match_id = france_matches.loc[france_matches['competition_stage'] == 'Round of 16'].match_id.item()\n",
    "\n",
    "events = sb.events(match_id = match_id)"
   ]
  },
  {
   "cell_type": "code",
   "execution_count": null,
   "metadata": {},
   "outputs": [],
   "source": [
    "passes = events[(events['type'] == \"Pass\") & \n",
    "                (events['player_id'] == 5484)]\n",
    "\n",
    "shots = events[(events['type'] == \"Shot\") &\n",
    "               (events['player_id'] == 5476)]"
   ]
  },
  {
   "cell_type": "code",
   "execution_count": null,
   "metadata": {},
   "outputs": [],
   "source": [
    "shots['shot_statsbomb_xg']"
   ]
  },
  {
   "cell_type": "code",
   "execution_count": null,
   "metadata": {},
   "outputs": [],
   "source": [
    "pass_coordinates = passes[['location', 'pass_end_location']]\n",
    "shot_coordinates = shots[['location', 'shot_end_location']]"
   ]
  },
  {
   "cell_type": "code",
   "execution_count": null,
   "metadata": {},
   "outputs": [],
   "source": [
    "x1_pass, y1_pass = np.array(pass_coordinates['location'].tolist()).T\n",
    "x2_pass, y2_pass = np.array(pass_coordinates['pass_end_location'].tolist()).T"
   ]
  },
  {
   "cell_type": "code",
   "execution_count": null,
   "metadata": {},
   "outputs": [],
   "source": [
    "x1_shot, y1_shot = np.array(shot_coordinates['location'].tolist()).T\n",
    "x2_shot, y2_shot, outcome = np.array(shot_coordinates['shot_end_location'].tolist()).T"
   ]
  },
  {
   "cell_type": "code",
   "execution_count": null,
   "metadata": {},
   "outputs": [],
   "source": [
    "pitch = mpl.Pitch()\n",
    "fig, ax = pitch.draw(figsize=figsize)\n",
    "\n",
    "p = pitch.arrows(x1_pass, y1_pass, x2_pass, y2_pass, alpha=0.4, color=blue,\n",
    "                 headaxislength=3, headlength=3, headwidth=4, width=2, ax=ax)\n",
    "p = pitch.arrows(x1_shot, y1_shot, x2_shot, y2_shot, alpha=0.4, color=red,\n",
    "                 headaxislength=3, headlength=3, headwidth=4, width=2, ax=ax)"
   ]
  },
  {
   "cell_type": "markdown",
   "metadata": {},
   "source": [
    "# Implementing the expected threat (xT) algorithm for a specific match"
   ]
  },
  {
   "cell_type": "code",
   "execution_count": null,
   "metadata": {},
   "outputs": [],
   "source": [
    "import pandas as pd"
   ]
  },
  {
   "cell_type": "code",
   "execution_count": null,
   "metadata": {},
   "outputs": [],
   "source": [
    "comps = sb.competitions()\n",
    "comps[comps['country_name'] == 'Spain']"
   ]
  },
  {
   "cell_type": "code",
   "execution_count": null,
   "metadata": {},
   "outputs": [],
   "source": [
    "matches = sb.matches(competition_id=11, season_id=90).sort_values('match_date', ascending=False)\n",
    "matches = matches[(matches['home_team'] == 'Real Madrid') | (matches['away_team'] == 'Real Madrid')]    \n",
    "matches"
   ]
  },
  {
   "cell_type": "code",
   "execution_count": null,
   "metadata": {},
   "outputs": [],
   "source": [
    "all_match_ids = matches.match_id.to_list()\n",
    "all_match_ids"
   ]
  },
  {
   "cell_type": "code",
   "execution_count": null,
   "metadata": {},
   "outputs": [],
   "source": [
    "all_events = pd.DataFrame()\n",
    "\n",
    "for match_id in all_match_ids:\n",
    "    match_events = sb.events(match_id=match_id)\n",
    "    all_events = pd.concat([all_events, match_events], ignore_index=True)\n",
    "\n",
    "all_events"
   ]
  },
  {
   "cell_type": "code",
   "execution_count": null,
   "metadata": {},
   "outputs": [],
   "source": [
    "GRID_X, GRID_Y = 16, 12\n",
    "pitch_x, pitch_y = 105, 68  # Standard pitch dimensions in meters. https://mplsoccer.readthedocs.io/en/latest/gallery/pitch_setup/plot_pitches.html\n",
    "x_bins = np.linspace(0, pitch_x, GRID_X + 1)\n",
    "y_bins = np.linspace(0, pitch_y, GRID_Y + 1)\n"
   ]
  },
  {
   "cell_type": "code",
   "execution_count": null,
   "metadata": {},
   "outputs": [],
   "source": [
    "def get_grid_cell(x, y):\n",
    "    x_idx = np.digitize(x, x_bins) - 1\n",
    "    y_idx = np.digitize(y, y_bins) - 1\n",
    "    return x_idx, y_idx"
   ]
  },
  {
   "cell_type": "code",
   "execution_count": null,
   "metadata": {},
   "outputs": [],
   "source": [
    "transition_matrix = np.zeros((GRID_X, GRID_Y, GRID_X, GRID_Y))"
   ]
  },
  {
   "cell_type": "code",
   "execution_count": null,
   "metadata": {},
   "outputs": [],
   "source": [
    "# Extract relevant passes and carries\n",
    "passes = all_events[all_events['type'] == 'Pass']\n",
    "carries = all_events[all_events['type'] == 'Carry']\n",
    "shots = all_events[all_events['type'] == 'Shot']"
   ]
  },
  {
   "cell_type": "code",
   "execution_count": null,
   "metadata": {},
   "outputs": [],
   "source": [
    "T = np.zeros((GRID_X, GRID_Y, GRID_X, GRID_Y))\n",
    "S = np.zeros((GRID_X, GRID_Y))  # shot counts\n",
    "M = np.zeros((GRID_X, GRID_Y))  # move counts"
   ]
  },
  {
   "cell_type": "code",
   "execution_count": null,
   "metadata": {},
   "outputs": [],
   "source": [
    "# Process passes and carries\n",
    "for _, row in pd.concat([passes, carries]).iterrows():\n",
    "    try:\n",
    "        start_x, start_y = row['location']\n",
    "        end = row.get('pass_end_location') if isinstance(row.get('pass_end_location'), list) else row.get('carry_end_location')\n",
    "        if not isinstance(end, list):\n",
    "            continue\n",
    "        end_x, end_y = end\n",
    "        sx, sy = get_grid_cell(start_x, start_y)\n",
    "        ex, ey = get_grid_cell(end_x, end_y)\n",
    "        if 0 <= sx < GRID_X and 0 <= sy < GRID_Y and 0 <= ex < GRID_X and 0 <= ey < GRID_Y:\n",
    "            T[sx, sy, ex, ey] += 1\n",
    "            M[sx, sy] += 1\n",
    "    except:\n",
    "        continue"
   ]
  },
  {
   "cell_type": "code",
   "execution_count": null,
   "metadata": {},
   "outputs": [],
   "source": [
    "# Process shots\n",
    "for _, row in shots.iterrows():\n",
    "    try:\n",
    "        x, y = row['location']\n",
    "        sx, sy = get_grid_cell(x, y)\n",
    "        S[sx, sy] += row['shot_statsbomb_xg']\n",
    "    except:\n",
    "        continue"
   ]
  },
  {
   "cell_type": "code",
   "execution_count": null,
   "metadata": {},
   "outputs": [],
   "source": [
    "# Normalize transition probabilities\n",
    "P_move = np.divide(M, M + S, out=np.zeros_like(M), where=(M + S) != 0)\n",
    "P_shot = np.divide(S, M + S, out=np.zeros_like(S), where=(M + S) != 0)\n",
    "P_trans = np.divide(T, T.sum(axis=(2,3), keepdims=True), out=np.zeros_like(T), where=T.sum(axis=(2,3), keepdims=True)!=0)\n"
   ]
  },
  {
   "cell_type": "code",
   "execution_count": null,
   "metadata": {},
   "outputs": [],
   "source": [
    "for iteration in range(50):\n",
    "    new_xT = np.copy(xT)\n",
    "    for i in range(GRID_X):\n",
    "        for j in range(GRID_Y):\n",
    "            future_threat = np.sum(P_trans[i, j] * xT)\n",
    "            new_xT[i, j] = P_shot[i, j] * S[i, j] + P_move[i, j] * future_threat\n",
    "\n",
    "    # Plot xT grid using mplsoccer\n",
    "    pitch = mpl.Pitch(pitch_type='statsbomb', pitch_color='white', line_color='black')\n",
    "    fig, ax = pitch.draw(figsize=(10, 7))\n",
    "    bin_statistic = pitch.bin_statistic(\n",
    "        np.repeat(x_bins[:-1], GRID_Y) + (pitch_x / GRID_X / 2),\n",
    "        np.tile(y_bins[:-1], GRID_X) + (pitch_y / GRID_Y / 2),\n",
    "        values=new_xT.flatten(),\n",
    "        statistic='mean',\n",
    "        bins=(GRID_X, GRID_Y)\n",
    "    )\n",
    "    pitch.heatmap(bin_statistic, ax=ax, cmap='Greens', edgecolors='grey', alpha=0.75)\n",
    "    ax.set_title(f\"xT - Iteration {iteration + 1}\", fontsize=16)\n",
    "    plt.show()\n",
    "\n",
    "    if np.sum(np.abs(new_xT - xT)) < 1e-6:\n",
    "        print(f\"Converged at iteration {iteration+1}\")\n",
    "        break\n",
    "    xT = new_xT"
   ]
  },
  {
   "cell_type": "code",
   "execution_count": null,
   "metadata": {},
   "outputs": [],
   "source": []
  }
 ],
 "metadata": {
  "kernelspec": {
   "display_name": "ddsa",
   "language": "python",
   "name": "python3"
  },
  "language_info": {
   "codemirror_mode": {
    "name": "ipython",
    "version": 3
   },
   "file_extension": ".py",
   "mimetype": "text/x-python",
   "name": "python",
   "nbconvert_exporter": "python",
   "pygments_lexer": "ipython3",
   "version": "3.11.10"
  }
 },
 "nbformat": 4,
 "nbformat_minor": 2
}
