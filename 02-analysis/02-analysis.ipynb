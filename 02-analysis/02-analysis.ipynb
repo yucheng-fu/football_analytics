{
 "cells": [
  {
   "cell_type": "code",
   "execution_count": 1,
   "id": "91d9bca2",
   "metadata": {},
   "outputs": [],
   "source": [
    "\n",
    "from statsbombpy import sb \n",
    "from xgboost import XGBClassifier\n",
    "import polars as pl\n",
    "import mplsoccer as mpl"
   ]
  },
  {
   "cell_type": "markdown",
   "id": "3db6b936",
   "metadata": {},
   "source": [
    "# Modelling pass difficulties\n",
    "I believe we can all agree that Pavard's half volley goal was a beautiful, but I the buildup to the goal is also really interesting to look into. Matuidi plays a through ball to Lucas Hernández who then plays a cross at a difficult angle back to Pavard, before he hits a half volley. While the half volley itself requires lots of technique (and luck), I want to answer the following about the passes:\n",
    "1. Is there a way to quantify the difficulty of the two passes that lead up the goal?\n",
    "2. If yes, which pass was more difficult to make?"
   ]
  },
  {
   "cell_type": "markdown",
   "id": "501cbf32",
   "metadata": {},
   "source": [
    "Fortunately, there are lots of data related to passes in the ``statsbombpy`` API which we can leverage to adopt a data-driven approach to answer our questions. The plan is to build a model that can tell us give us a pass difficulty score $p_\\text{pass}$ for a pass from point $(x_1, y_1)$ to $(x_2, y_2)$ on the pitch. "
   ]
  },
  {
   "cell_type": "markdown",
   "id": "41b9075b",
   "metadata": {},
   "source": [
    "# Getting the data\n"
   ]
  },
  {
   "cell_type": "code",
   "execution_count": 2,
   "id": "e80099e7",
   "metadata": {},
   "outputs": [],
   "source": [
    "wc2018_matches_df = sb.matches(competition_id=43, season_id=3).sort_values(\n",
    "    \"match_date\", ascending=False\n",
    ")\n",
    "wc2018_matches = pl.from_pandas(wc2018_matches_df)"
   ]
  },
  {
   "cell_type": "code",
   "execution_count": 9,
   "id": "d1d9f53d",
   "metadata": {},
   "outputs": [
    {
     "data": {
      "text/html": [
       "<div><style>\n",
       ".dataframe > thead > tr,\n",
       ".dataframe > tbody > tr {\n",
       "  text-align: right;\n",
       "  white-space: pre-wrap;\n",
       "}\n",
       "</style>\n",
       "<small>shape: (64, 22)</small><table border=\"1\" class=\"dataframe\"><thead><tr><th>match_id</th><th>match_date</th><th>kick_off</th><th>competition</th><th>season</th><th>home_team</th><th>away_team</th><th>home_score</th><th>away_score</th><th>match_status</th><th>match_status_360</th><th>last_updated</th><th>last_updated_360</th><th>match_week</th><th>competition_stage</th><th>stadium</th><th>referee</th><th>home_managers</th><th>away_managers</th><th>data_version</th><th>shot_fidelity_version</th><th>xy_fidelity_version</th></tr><tr><td>i64</td><td>str</td><td>str</td><td>str</td><td>str</td><td>str</td><td>str</td><td>i64</td><td>i64</td><td>str</td><td>str</td><td>str</td><td>str</td><td>i64</td><td>str</td><td>str</td><td>str</td><td>str</td><td>str</td><td>str</td><td>str</td><td>str</td></tr></thead><tbody><tr><td>8658</td><td>&quot;2018-07-15&quot;</td><td>&quot;17:00:00.000&quot;</td><td>&quot;International - FIFA World Cup&quot;</td><td>&quot;2018&quot;</td><td>&quot;France&quot;</td><td>&quot;Croatia&quot;</td><td>4</td><td>2</td><td>&quot;available&quot;</td><td>&quot;scheduled&quot;</td><td>&quot;2023-07-24T13:03:36.244040&quot;</td><td>&quot;2021-06-13T16:17:31.694&quot;</td><td>7</td><td>&quot;Final&quot;</td><td>&quot;Stadion Luzhniki&quot;</td><td>&quot;Néstor Fabián Pitana&quot;</td><td>&quot;Didier Deschamps&quot;</td><td>&quot;Zlatko Dalić&quot;</td><td>&quot;1.0.2&quot;</td><td>null</td><td>null</td></tr><tr><td>8657</td><td>&quot;2018-07-14&quot;</td><td>&quot;16:00:00.000&quot;</td><td>&quot;International - FIFA World Cup&quot;</td><td>&quot;2018&quot;</td><td>&quot;Belgium&quot;</td><td>&quot;England&quot;</td><td>2</td><td>0</td><td>&quot;available&quot;</td><td>&quot;scheduled&quot;</td><td>&quot;2023-07-24T13:02:46.901265&quot;</td><td>&quot;2021-06-13T16:17:31.694&quot;</td><td>7</td><td>&quot;3rd Place Final&quot;</td><td>&quot;Saint-Petersburg Stadium&quot;</td><td>&quot;Alireza Faghani&quot;</td><td>&quot;Roberto Martínez Montoliú&quot;</td><td>&quot;Gareth Southgate&quot;</td><td>&quot;1.0.2&quot;</td><td>null</td><td>null</td></tr><tr><td>8656</td><td>&quot;2018-07-11&quot;</td><td>&quot;20:00:00.000&quot;</td><td>&quot;International - FIFA World Cup&quot;</td><td>&quot;2018&quot;</td><td>&quot;Croatia&quot;</td><td>&quot;England&quot;</td><td>2</td><td>1</td><td>&quot;available&quot;</td><td>&quot;scheduled&quot;</td><td>&quot;2023-07-24T13:01:34.707926&quot;</td><td>&quot;2021-06-13T16:17:31.694&quot;</td><td>6</td><td>&quot;Semi-finals&quot;</td><td>&quot;Stadion Luzhniki&quot;</td><td>&quot;Cüneyt Çakιr&quot;</td><td>&quot;Zlatko Dalić&quot;</td><td>&quot;Gareth Southgate&quot;</td><td>&quot;1.0.2&quot;</td><td>null</td><td>null</td></tr><tr><td>8655</td><td>&quot;2018-07-10&quot;</td><td>&quot;20:00:00.000&quot;</td><td>&quot;International - FIFA World Cup&quot;</td><td>&quot;2018&quot;</td><td>&quot;France&quot;</td><td>&quot;Belgium&quot;</td><td>1</td><td>0</td><td>&quot;available&quot;</td><td>&quot;scheduled&quot;</td><td>&quot;2023-07-24T13:00:27.503953&quot;</td><td>&quot;2021-06-13T16:17:31.694&quot;</td><td>6</td><td>&quot;Semi-finals&quot;</td><td>&quot;Saint-Petersburg Stadium&quot;</td><td>&quot;Andrés Cunha&quot;</td><td>&quot;Didier Deschamps&quot;</td><td>&quot;Roberto Martínez Montoliú&quot;</td><td>&quot;1.0.2&quot;</td><td>null</td><td>null</td></tr><tr><td>8651</td><td>&quot;2018-07-07&quot;</td><td>&quot;16:00:00.000&quot;</td><td>&quot;International - FIFA World Cup&quot;</td><td>&quot;2018&quot;</td><td>&quot;Sweden&quot;</td><td>&quot;England&quot;</td><td>0</td><td>2</td><td>&quot;available&quot;</td><td>&quot;scheduled&quot;</td><td>&quot;2023-07-24T13:08:32.098385&quot;</td><td>&quot;2021-06-13T16:17:31.694&quot;</td><td>5</td><td>&quot;Quarter-finals&quot;</td><td>&quot;\tSolidarnost Arena&quot;</td><td>&quot;Björn Kuipers&quot;</td><td>&quot;Jan Olof Andersson&quot;</td><td>&quot;Gareth Southgate&quot;</td><td>&quot;1.0.2&quot;</td><td>null</td><td>null</td></tr><tr><td>&hellip;</td><td>&hellip;</td><td>&hellip;</td><td>&hellip;</td><td>&hellip;</td><td>&hellip;</td><td>&hellip;</td><td>&hellip;</td><td>&hellip;</td><td>&hellip;</td><td>&hellip;</td><td>&hellip;</td><td>&hellip;</td><td>&hellip;</td><td>&hellip;</td><td>&hellip;</td><td>&hellip;</td><td>&hellip;</td><td>&hellip;</td><td>&hellip;</td><td>&hellip;</td><td>&hellip;</td></tr><tr><td>7529</td><td>&quot;2018-06-16&quot;</td><td>&quot;21:00:00.000&quot;</td><td>&quot;International - FIFA World Cup&quot;</td><td>&quot;2018&quot;</td><td>&quot;Croatia&quot;</td><td>&quot;Nigeria&quot;</td><td>2</td><td>0</td><td>&quot;available&quot;</td><td>&quot;scheduled&quot;</td><td>&quot;2023-07-24T12:57:10.686569&quot;</td><td>&quot;2021-06-13T16:17:31.694&quot;</td><td>1</td><td>&quot;Group Stage&quot;</td><td>&quot;Stadion Kaliningrad&quot;</td><td>&quot;Sandro Ricci&quot;</td><td>&quot;Zlatko Dalić&quot;</td><td>&quot;Gernot Rohr&quot;</td><td>&quot;1.0.2&quot;</td><td>null</td><td>null</td></tr><tr><td>7578</td><td>&quot;2018-06-15&quot;</td><td>&quot;14:00:00.000&quot;</td><td>&quot;International - FIFA World Cup&quot;</td><td>&quot;2018&quot;</td><td>&quot;Egypt&quot;</td><td>&quot;Uruguay&quot;</td><td>0</td><td>1</td><td>&quot;available&quot;</td><td>&quot;scheduled&quot;</td><td>&quot;2021-12-06T22:24:47.980215&quot;</td><td>&quot;2021-06-13T16:17:31.694&quot;</td><td>1</td><td>&quot;Group Stage&quot;</td><td>&quot;\tEkaterinburg Arena&quot;</td><td>&quot;Björn Kuipers&quot;</td><td>&quot;Héctor Raúl Cúper&quot;</td><td>&quot;Óscar Washington Tabárez Silva&quot;</td><td>&quot;1.0.2&quot;</td><td>null</td><td>null</td></tr><tr><td>7577</td><td>&quot;2018-06-15&quot;</td><td>&quot;17:00:00.000&quot;</td><td>&quot;International - FIFA World Cup&quot;</td><td>&quot;2018&quot;</td><td>&quot;Morocco&quot;</td><td>&quot;Iran&quot;</td><td>0</td><td>1</td><td>&quot;available&quot;</td><td>&quot;scheduled&quot;</td><td>&quot;2023-07-24T12:54:22.880193&quot;</td><td>&quot;2021-06-13T16:17:31.694&quot;</td><td>1</td><td>&quot;Group Stage&quot;</td><td>&quot;Saint-Petersburg Stadium&quot;</td><td>&quot;Cüneyt Çakιr&quot;</td><td>&quot;Hervé Renard&quot;</td><td>&quot;Carlos Manuel Brito Leal Queir…</td><td>&quot;1.0.2&quot;</td><td>null</td><td>null</td></tr><tr><td>7576</td><td>&quot;2018-06-15&quot;</td><td>&quot;20:00:00.000&quot;</td><td>&quot;International - FIFA World Cup&quot;</td><td>&quot;2018&quot;</td><td>&quot;Portugal&quot;</td><td>&quot;Spain&quot;</td><td>3</td><td>3</td><td>&quot;available&quot;</td><td>&quot;scheduled&quot;</td><td>&quot;2021-12-06T22:30:32.372616&quot;</td><td>&quot;2021-06-13T16:17:31.694&quot;</td><td>1</td><td>&quot;Group Stage&quot;</td><td>&quot;\tOlimpiyskiy Stadion Fisht &quot;</td><td>&quot;Gianluca Rocchi&quot;</td><td>&quot;Fernando Manuel Fernandes da C…</td><td>&quot;Fernando Ruiz Hierro&quot;</td><td>&quot;1.0.2&quot;</td><td>null</td><td>null</td></tr><tr><td>7525</td><td>&quot;2018-06-14&quot;</td><td>&quot;17:00:00.000&quot;</td><td>&quot;International - FIFA World Cup&quot;</td><td>&quot;2018&quot;</td><td>&quot;Russia&quot;</td><td>&quot;Saudi Arabia&quot;</td><td>5</td><td>0</td><td>&quot;available&quot;</td><td>&quot;scheduled&quot;</td><td>&quot;2023-07-24T12:53:37.282409&quot;</td><td>&quot;2021-06-13T16:17:31.694&quot;</td><td>1</td><td>&quot;Group Stage&quot;</td><td>&quot;Stadion Luzhniki&quot;</td><td>&quot;Néstor Fabián Pitana&quot;</td><td>&quot;Stanislav Cherchesov&quot;</td><td>&quot;Juan Antonio Pizzi Torroja&quot;</td><td>&quot;1.0.2&quot;</td><td>null</td><td>null</td></tr></tbody></table></div>"
      ],
      "text/plain": [
       "shape: (64, 22)\n",
       "┌──────────┬───────────┬───────────┬───────────┬───┬───────────┬───────────┬───────────┬───────────┐\n",
       "│ match_id ┆ match_dat ┆ kick_off  ┆ competiti ┆ … ┆ away_mana ┆ data_vers ┆ shot_fide ┆ xy_fideli │\n",
       "│ ---      ┆ e         ┆ ---       ┆ on        ┆   ┆ gers      ┆ ion       ┆ lity_vers ┆ ty_versio │\n",
       "│ i64      ┆ ---       ┆ str       ┆ ---       ┆   ┆ ---       ┆ ---       ┆ ion       ┆ n         │\n",
       "│          ┆ str       ┆           ┆ str       ┆   ┆ str       ┆ str       ┆ ---       ┆ ---       │\n",
       "│          ┆           ┆           ┆           ┆   ┆           ┆           ┆ str       ┆ str       │\n",
       "╞══════════╪═══════════╪═══════════╪═══════════╪═══╪═══════════╪═══════════╪═══════════╪═══════════╡\n",
       "│ 8658     ┆ 2018-07-1 ┆ 17:00:00. ┆ Internati ┆ … ┆ Zlatko    ┆ 1.0.2     ┆ null      ┆ null      │\n",
       "│          ┆ 5         ┆ 000       ┆ onal -    ┆   ┆ Dalić     ┆           ┆           ┆           │\n",
       "│          ┆           ┆           ┆ FIFA      ┆   ┆           ┆           ┆           ┆           │\n",
       "│          ┆           ┆           ┆ World Cup ┆   ┆           ┆           ┆           ┆           │\n",
       "│ 8657     ┆ 2018-07-1 ┆ 16:00:00. ┆ Internati ┆ … ┆ Gareth    ┆ 1.0.2     ┆ null      ┆ null      │\n",
       "│          ┆ 4         ┆ 000       ┆ onal -    ┆   ┆ Southgate ┆           ┆           ┆           │\n",
       "│          ┆           ┆           ┆ FIFA      ┆   ┆           ┆           ┆           ┆           │\n",
       "│          ┆           ┆           ┆ World Cup ┆   ┆           ┆           ┆           ┆           │\n",
       "│ 8656     ┆ 2018-07-1 ┆ 20:00:00. ┆ Internati ┆ … ┆ Gareth    ┆ 1.0.2     ┆ null      ┆ null      │\n",
       "│          ┆ 1         ┆ 000       ┆ onal -    ┆   ┆ Southgate ┆           ┆           ┆           │\n",
       "│          ┆           ┆           ┆ FIFA      ┆   ┆           ┆           ┆           ┆           │\n",
       "│          ┆           ┆           ┆ World Cup ┆   ┆           ┆           ┆           ┆           │\n",
       "│ 8655     ┆ 2018-07-1 ┆ 20:00:00. ┆ Internati ┆ … ┆ Roberto   ┆ 1.0.2     ┆ null      ┆ null      │\n",
       "│          ┆ 0         ┆ 000       ┆ onal -    ┆   ┆ Martínez  ┆           ┆           ┆           │\n",
       "│          ┆           ┆           ┆ FIFA      ┆   ┆ Montoliú  ┆           ┆           ┆           │\n",
       "│          ┆           ┆           ┆ World Cup ┆   ┆           ┆           ┆           ┆           │\n",
       "│ 8651     ┆ 2018-07-0 ┆ 16:00:00. ┆ Internati ┆ … ┆ Gareth    ┆ 1.0.2     ┆ null      ┆ null      │\n",
       "│          ┆ 7         ┆ 000       ┆ onal -    ┆   ┆ Southgate ┆           ┆           ┆           │\n",
       "│          ┆           ┆           ┆ FIFA      ┆   ┆           ┆           ┆           ┆           │\n",
       "│          ┆           ┆           ┆ World Cup ┆   ┆           ┆           ┆           ┆           │\n",
       "│ …        ┆ …         ┆ …         ┆ …         ┆ … ┆ …         ┆ …         ┆ …         ┆ …         │\n",
       "│ 7529     ┆ 2018-06-1 ┆ 21:00:00. ┆ Internati ┆ … ┆ Gernot    ┆ 1.0.2     ┆ null      ┆ null      │\n",
       "│          ┆ 6         ┆ 000       ┆ onal -    ┆   ┆ Rohr      ┆           ┆           ┆           │\n",
       "│          ┆           ┆           ┆ FIFA      ┆   ┆           ┆           ┆           ┆           │\n",
       "│          ┆           ┆           ┆ World Cup ┆   ┆           ┆           ┆           ┆           │\n",
       "│ 7578     ┆ 2018-06-1 ┆ 14:00:00. ┆ Internati ┆ … ┆ Óscar Was ┆ 1.0.2     ┆ null      ┆ null      │\n",
       "│          ┆ 5         ┆ 000       ┆ onal -    ┆   ┆ hington   ┆           ┆           ┆           │\n",
       "│          ┆           ┆           ┆ FIFA      ┆   ┆ Tabárez   ┆           ┆           ┆           │\n",
       "│          ┆           ┆           ┆ World Cup ┆   ┆ Silva     ┆           ┆           ┆           │\n",
       "│ 7577     ┆ 2018-06-1 ┆ 17:00:00. ┆ Internati ┆ … ┆ Carlos    ┆ 1.0.2     ┆ null      ┆ null      │\n",
       "│          ┆ 5         ┆ 000       ┆ onal -    ┆   ┆ Manuel    ┆           ┆           ┆           │\n",
       "│          ┆           ┆           ┆ FIFA      ┆   ┆ Brito     ┆           ┆           ┆           │\n",
       "│          ┆           ┆           ┆ World Cup ┆   ┆ Leal      ┆           ┆           ┆           │\n",
       "│          ┆           ┆           ┆           ┆   ┆ Queir…    ┆           ┆           ┆           │\n",
       "│ 7576     ┆ 2018-06-1 ┆ 20:00:00. ┆ Internati ┆ … ┆ Fernando  ┆ 1.0.2     ┆ null      ┆ null      │\n",
       "│          ┆ 5         ┆ 000       ┆ onal -    ┆   ┆ Ruiz      ┆           ┆           ┆           │\n",
       "│          ┆           ┆           ┆ FIFA      ┆   ┆ Hierro    ┆           ┆           ┆           │\n",
       "│          ┆           ┆           ┆ World Cup ┆   ┆           ┆           ┆           ┆           │\n",
       "│ 7525     ┆ 2018-06-1 ┆ 17:00:00. ┆ Internati ┆ … ┆ Juan      ┆ 1.0.2     ┆ null      ┆ null      │\n",
       "│          ┆ 4         ┆ 000       ┆ onal -    ┆   ┆ Antonio   ┆           ┆           ┆           │\n",
       "│          ┆           ┆           ┆ FIFA      ┆   ┆ Pizzi     ┆           ┆           ┆           │\n",
       "│          ┆           ┆           ┆ World Cup ┆   ┆ Torroja   ┆           ┆           ┆           │\n",
       "└──────────┴───────────┴───────────┴───────────┴───┴───────────┴───────────┴───────────┴───────────┘"
      ]
     },
     "execution_count": 9,
     "metadata": {},
     "output_type": "execute_result"
    }
   ],
   "source": [
    "wc2018_matches"
   ]
  },
  {
   "cell_type": "code",
   "execution_count": 40,
   "id": "d9a6846e",
   "metadata": {},
   "outputs": [
    {
     "data": {
      "text/html": [
       "<div><style>\n",
       ".dataframe > thead > tr,\n",
       ".dataframe > tbody > tr {\n",
       "  text-align: right;\n",
       "  white-space: pre-wrap;\n",
       "}\n",
       "</style>\n",
       "<small>shape: (919, 7)</small><table border=\"1\" class=\"dataframe\"><thead><tr><th>duration</th><th>location</th><th>pass_end_location</th><th>pass_angle</th><th>pass_length</th><th>pass_height</th><th>pass_outcome</th></tr><tr><td>f64</td><td>list[f64]</td><td>list[f64]</td><td>f64</td><td>f64</td><td>str</td><td>str</td></tr></thead><tbody><tr><td>0.883</td><td>[60.0, 40.0]</td><td>[47.0, 40.0]</td><td>3.1415927</td><td>13.0</td><td>&quot;Ground Pass&quot;</td><td>null</td></tr><tr><td>1.68</td><td>[49.0, 36.0]</td><td>[34.0, 20.0]</td><td>-2.323948</td><td>21.931713</td><td>&quot;Ground Pass&quot;</td><td>null</td></tr><tr><td>2.24</td><td>[33.0, 18.0]</td><td>[70.0, 4.0]</td><td>-0.361729</td><td>39.56008</td><td>&quot;High Pass&quot;</td><td>null</td></tr><tr><td>1.68</td><td>[55.0, 80.0]</td><td>[32.0, 78.0]</td><td>-3.054854</td><td>23.086792</td><td>&quot;Low Pass&quot;</td><td>null</td></tr><tr><td>0.8</td><td>[33.0, 72.0]</td><td>[41.0, 79.0]</td><td>0.71883</td><td>10.630146</td><td>&quot;Ground Pass&quot;</td><td>null</td></tr><tr><td>&hellip;</td><td>&hellip;</td><td>&hellip;</td><td>&hellip;</td><td>&hellip;</td><td>&hellip;</td><td>&hellip;</td></tr><tr><td>2.093</td><td>[90.0, 19.0]</td><td>[107.0, 45.0]</td><td>0.991722</td><td>31.06445</td><td>&quot;High Pass&quot;</td><td>&quot;Incomplete&quot;</td></tr><tr><td>2.0</td><td>[91.0, 78.0]</td><td>[108.0, 78.0]</td><td>0.0</td><td>17.0</td><td>&quot;Ground Pass&quot;</td><td>null</td></tr><tr><td>2.133</td><td>[112.0, 76.0]</td><td>[117.0, 43.0]</td><td>-1.420425</td><td>33.37664</td><td>&quot;High Pass&quot;</td><td>&quot;Incomplete&quot;</td></tr><tr><td>1.453</td><td>[12.0, 37.0]</td><td>[38.0, 41.0]</td><td>0.152649</td><td>26.305893</td><td>&quot;High Pass&quot;</td><td>null</td></tr><tr><td>1.993</td><td>[45.0, 35.0]</td><td>[35.0, 16.0]</td><td>-2.055274</td><td>21.470911</td><td>&quot;Ground Pass&quot;</td><td>null</td></tr></tbody></table></div>"
      ],
      "text/plain": [
       "shape: (919, 7)\n",
       "┌──────────┬───────────────┬───────────────┬────────────┬─────────────┬─────────────┬──────────────┐\n",
       "│ duration ┆ location      ┆ pass_end_loca ┆ pass_angle ┆ pass_length ┆ pass_height ┆ pass_outcome │\n",
       "│ ---      ┆ ---           ┆ tion          ┆ ---        ┆ ---         ┆ ---         ┆ ---          │\n",
       "│ f64      ┆ list[f64]     ┆ ---           ┆ f64        ┆ f64         ┆ str         ┆ str          │\n",
       "│          ┆               ┆ list[f64]     ┆            ┆             ┆             ┆              │\n",
       "╞══════════╪═══════════════╪═══════════════╪════════════╪═════════════╪═════════════╪══════════════╡\n",
       "│ 0.883    ┆ [60.0, 40.0]  ┆ [47.0, 40.0]  ┆ 3.1415927  ┆ 13.0        ┆ Ground Pass ┆ null         │\n",
       "│ 1.68     ┆ [49.0, 36.0]  ┆ [34.0, 20.0]  ┆ -2.323948  ┆ 21.931713   ┆ Ground Pass ┆ null         │\n",
       "│ 2.24     ┆ [33.0, 18.0]  ┆ [70.0, 4.0]   ┆ -0.361729  ┆ 39.56008    ┆ High Pass   ┆ null         │\n",
       "│ 1.68     ┆ [55.0, 80.0]  ┆ [32.0, 78.0]  ┆ -3.054854  ┆ 23.086792   ┆ Low Pass    ┆ null         │\n",
       "│ 0.8      ┆ [33.0, 72.0]  ┆ [41.0, 79.0]  ┆ 0.71883    ┆ 10.630146   ┆ Ground Pass ┆ null         │\n",
       "│ …        ┆ …             ┆ …             ┆ …          ┆ …           ┆ …           ┆ …            │\n",
       "│ 2.093    ┆ [90.0, 19.0]  ┆ [107.0, 45.0] ┆ 0.991722   ┆ 31.06445    ┆ High Pass   ┆ Incomplete   │\n",
       "│ 2.0      ┆ [91.0, 78.0]  ┆ [108.0, 78.0] ┆ 0.0        ┆ 17.0        ┆ Ground Pass ┆ null         │\n",
       "│ 2.133    ┆ [112.0, 76.0] ┆ [117.0, 43.0] ┆ -1.420425  ┆ 33.37664    ┆ High Pass   ┆ Incomplete   │\n",
       "│ 1.453    ┆ [12.0, 37.0]  ┆ [38.0, 41.0]  ┆ 0.152649   ┆ 26.305893   ┆ High Pass   ┆ null         │\n",
       "│ 1.993    ┆ [45.0, 35.0]  ┆ [35.0, 16.0]  ┆ -2.055274  ┆ 21.470911   ┆ Ground Pass ┆ null         │\n",
       "└──────────┴───────────────┴───────────────┴────────────┴─────────────┴─────────────┴──────────────┘"
      ]
     },
     "execution_count": 40,
     "metadata": {},
     "output_type": "execute_result"
    }
   ],
   "source": [
    "goat = passes.select(pl.col(\"duration\"), pl.col(\"location\"), pl.col(\"pass_end_location\"), pl.col(\"pass_angle\"), pl.col(\"pass_length\"), pl.col(\"pass_height\"), pl.col(\"pass_outcome\"))\n",
    "goat"
   ]
  }
 ],
 "metadata": {
  "kernelspec": {
   "display_name": "ddsa",
   "language": "python",
   "name": "python3"
  },
  "language_info": {
   "codemirror_mode": {
    "name": "ipython",
    "version": 3
   },
   "file_extension": ".py",
   "mimetype": "text/x-python",
   "name": "python",
   "nbconvert_exporter": "python",
   "pygments_lexer": "ipython3",
   "version": "3.11.10"
  }
 },
 "nbformat": 4,
 "nbformat_minor": 5
}
