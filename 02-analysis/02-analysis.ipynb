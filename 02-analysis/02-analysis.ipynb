{
 "cells": [
  {
   "cell_type": "code",
   "execution_count": 1,
   "id": "91d9bca2",
   "metadata": {},
   "outputs": [],
   "source": [
    "\n",
    "from statsbombpy import sb \n",
    "from xgboost import XGBClassifier\n",
    "import polars as pl\n",
    "import mplsoccer as mpl\n",
    "\n",
    "import sys\n",
    "import warnings\n",
    "\n",
    "sys.path.append(\"..\")\n",
    "sys.dont_write_bytecode = True\n",
    "warnings.filterwarnings(\"ignore\")"
   ]
  },
  {
   "cell_type": "code",
   "execution_count": 2,
   "id": "e59282dc",
   "metadata": {},
   "outputs": [],
   "source": [
    "from utils.passes_handler import PassesHandler"
   ]
  },
  {
   "cell_type": "markdown",
   "id": "3db6b936",
   "metadata": {},
   "source": [
    "# Modelling pass difficulties\n",
    "I believe we can all agree that Pavard's half volley goal was a beautiful, but I the buildup to the goal is also really interesting to look into. Matuidi plays a through ball to Lucas Hernández who then plays a cross at a difficult angle back to Pavard, before he hits a half volley. While the half volley itself requires lots of technique (and luck), I want to answer the following about the passes:\n",
    "1. Is there a way to quantify the difficulty of the two passes that lead up the goal (i.e. how likely are these types of passes to succeed?)\n",
    "2. If yes, which pass was more difficult to make (has a lower probability of success)?"
   ]
  },
  {
   "cell_type": "markdown",
   "id": "501cbf32",
   "metadata": {},
   "source": [
    "Fortunately, there are lots of data related to passes in the ``statsbombpy`` API which we can leverage to adopt a data-driven approach to answer our questions. The plan is to build a model that can tell us give us a pass difficulty score $p_\\text{pass}$ for a pass from point $(x_1, y_1)$ to $(x_2, y_2)$ on the pitch. "
   ]
  },
  {
   "cell_type": "markdown",
   "id": "41b9075b",
   "metadata": {},
   "source": [
    "# Getting the data\n"
   ]
  },
  {
   "cell_type": "code",
   "execution_count": 3,
   "id": "e80099e7",
   "metadata": {},
   "outputs": [],
   "source": [
    "wc2018_matches_df = sb.matches(competition_id=43, season_id=3).sort_values(\n",
    "    \"match_date\", ascending=False\n",
    ")\n",
    "wc2018_matches = pl.from_pandas(wc2018_matches_df)\n",
    "match_ids = wc2018_matches.select(\"match_id\").to_series().to_list()"
   ]
  },
  {
   "cell_type": "code",
   "execution_count": 4,
   "id": "e3e80656",
   "metadata": {},
   "outputs": [
    {
     "name": "stderr",
     "output_type": "stream",
     "text": [
      "100%|██████████| 64/64 [00:43<00:00,  1.48it/s]\n"
     ]
    }
   ],
   "source": [
    "passes_handler = PassesHandler(match_ids=match_ids)\n",
    "\n",
    "passes_df = passes_handler.get_passes_from_match_ids()"
   ]
  },
  {
   "cell_type": "markdown",
   "id": "a9be4ee1",
   "metadata": {},
   "source": [
    "Now that we have generated a .csv file, let us just simply load that."
   ]
  },
  {
   "cell_type": "code",
   "execution_count": 5,
   "id": "e0ef61a3",
   "metadata": {},
   "outputs": [],
   "source": [
    "passes_df = pl.read_csv(\"../data/02-analysis/passes.csv\")"
   ]
  },
  {
   "cell_type": "markdown",
   "id": "3ee074fd",
   "metadata": {},
   "source": [
    "# Exploring the data\n",
    "Let us take a quick look at the data and what each feature stands for according to the official [documentation](https://github.com/statsbomb/statsbombpy/blob/master/doc/Open%20Data%20Events%20v4.0.0.pdf):\n",
    "\n",
    "- ``start_x``: x coordinate of the pass origin (where the pass started)\n",
    "- ``start_y``: y coordinate of the pass origin\n",
    "- ``end_x``: x coordinate of the pass destination (where the pass ended)\n",
    "- ``end_y``: y coordinate of the pass destination\n",
    "- ``length``: length of the pass in yards\n",
    "- ``height``: the height type of the pass (e.g., Ground Pass, Low Pass, High Pass)\n",
    "- ``angle``: angle of the pass in radians, with 0 pointing straight ahead. Values between 0 and $\\pi$ indicating an angle clockwise.\n",
    "- ``duration``: the length the event lasted in seconds\n",
    "- ``body_part``: which body part was used to make the pass (Head, Left foot, Right foot, Other)\n",
    "- ``under_pressure``: Boolean indicating whether the player making the pass was under pressure by other players\n",
    "- ``outcome``: result of the pass (e.g., Incomplete, Out, Pass offside, null if completed)\n",
    "\n",
    "There is also the ``match_id`` column, but we will not use that as an actual feature in our model."
   ]
  },
  {
   "cell_type": "code",
   "execution_count": 7,
   "id": "b4261f99",
   "metadata": {},
   "outputs": [
    {
     "data": {
      "text/html": [
       "<div><style>\n",
       ".dataframe > thead > tr,\n",
       ".dataframe > tbody > tr {\n",
       "  text-align: right;\n",
       "  white-space: pre-wrap;\n",
       "}\n",
       "</style>\n",
       "<small>shape: (9, 13)</small><table border=\"1\" class=\"dataframe\"><thead><tr><th>statistic</th><th>match_id</th><th>start_x</th><th>start_y</th><th>end_x</th><th>end_y</th><th>length</th><th>height</th><th>angle</th><th>duration</th><th>body_part</th><th>under_pressure</th><th>outcome</th></tr><tr><td>str</td><td>f64</td><td>f64</td><td>f64</td><td>f64</td><td>f64</td><td>f64</td><td>str</td><td>f64</td><td>f64</td><td>str</td><td>f64</td><td>str</td></tr></thead><tbody><tr><td>&quot;count&quot;</td><td>62881.0</td><td>62881.0</td><td>62881.0</td><td>62881.0</td><td>62881.0</td><td>62881.0</td><td>&quot;62881&quot;</td><td>62881.0</td><td>62881.0</td><td>&quot;59654&quot;</td><td>13029.0</td><td>&quot;12714&quot;</td></tr><tr><td>&quot;null_count&quot;</td><td>0.0</td><td>0.0</td><td>0.0</td><td>0.0</td><td>0.0</td><td>0.0</td><td>&quot;0&quot;</td><td>0.0</td><td>0.0</td><td>&quot;3227&quot;</td><td>49852.0</td><td>&quot;50167&quot;</td></tr><tr><td>&quot;mean&quot;</td><td>7699.567644</td><td>60.040664</td><td>40.442868</td><td>66.698271</td><td>40.275393</td><td>21.316443</td><td>null</td><td>0.025414</td><td>1.514009</td><td>null</td><td>1.0</td><td>null</td></tr><tr><td>&quot;std&quot;</td><td>369.805902</td><td>26.9003</td><td>24.024639</td><td>26.835943</td><td>23.793187</td><td>14.863208</td><td>null</td><td>1.559887</td><td>0.871668</td><td>null</td><td>null</td><td>null</td></tr><tr><td>&quot;min&quot;</td><td>7525.0</td><td>1.0</td><td>1.0</td><td>1.0</td><td>1.0</td><td>0.0</td><td>&quot;Ground Pass&quot;</td><td>-3.120319</td><td>0.0</td><td>&quot;Drop Kick&quot;</td><td>1.0</td><td>&quot;Incomplete&quot;</td></tr><tr><td>&quot;25%&quot;</td><td>7544.0</td><td>40.0</td><td>20.0</td><td>47.0</td><td>20.0</td><td>11.18034</td><td>null</td><td>-1.19029</td><td>0.933</td><td>null</td><td>null</td><td>null</td></tr><tr><td>&quot;50%&quot;</td><td>7560.0</td><td>59.0</td><td>40.0</td><td>66.0</td><td>40.0</td><td>17.464249</td><td>null</td><td>0.0</td><td>1.293</td><td>null</td><td>null</td><td>null</td></tr><tr><td>&quot;75%&quot;</td><td>7580.0</td><td>80.0</td><td>61.0</td><td>87.0</td><td>61.0</td><td>27.018513</td><td>null</td><td>1.2490457</td><td>1.84</td><td>null</td><td>null</td><td>null</td></tr><tr><td>&quot;max&quot;</td><td>8658.0</td><td>120.0</td><td>80.0</td><td>120.0</td><td>80.0</td><td>108.66922</td><td>&quot;Low Pass&quot;</td><td>3.1415927</td><td>8.56</td><td>&quot;Right Foot&quot;</td><td>1.0</td><td>&quot;Unknown&quot;</td></tr></tbody></table></div>"
      ],
      "text/plain": [
       "shape: (9, 13)\n",
       "┌───────────┬───────────┬───────────┬───────────┬───┬──────────┬───────────┬───────────┬───────────┐\n",
       "│ statistic ┆ match_id  ┆ start_x   ┆ start_y   ┆ … ┆ duration ┆ body_part ┆ under_pre ┆ outcome   │\n",
       "│ ---       ┆ ---       ┆ ---       ┆ ---       ┆   ┆ ---      ┆ ---       ┆ ssure     ┆ ---       │\n",
       "│ str       ┆ f64       ┆ f64       ┆ f64       ┆   ┆ f64      ┆ str       ┆ ---       ┆ str       │\n",
       "│           ┆           ┆           ┆           ┆   ┆          ┆           ┆ f64       ┆           │\n",
       "╞═══════════╪═══════════╪═══════════╪═══════════╪═══╪══════════╪═══════════╪═══════════╪═══════════╡\n",
       "│ count     ┆ 62881.0   ┆ 62881.0   ┆ 62881.0   ┆ … ┆ 62881.0  ┆ 59654     ┆ 13029.0   ┆ 12714     │\n",
       "│ null_coun ┆ 0.0       ┆ 0.0       ┆ 0.0       ┆ … ┆ 0.0      ┆ 3227      ┆ 49852.0   ┆ 50167     │\n",
       "│ t         ┆           ┆           ┆           ┆   ┆          ┆           ┆           ┆           │\n",
       "│ mean      ┆ 7699.5676 ┆ 60.040664 ┆ 40.442868 ┆ … ┆ 1.514009 ┆ null      ┆ 1.0       ┆ null      │\n",
       "│           ┆ 44        ┆           ┆           ┆   ┆          ┆           ┆           ┆           │\n",
       "│ std       ┆ 369.80590 ┆ 26.9003   ┆ 24.024639 ┆ … ┆ 0.871668 ┆ null      ┆ null      ┆ null      │\n",
       "│           ┆ 2         ┆           ┆           ┆   ┆          ┆           ┆           ┆           │\n",
       "│ min       ┆ 7525.0    ┆ 1.0       ┆ 1.0       ┆ … ┆ 0.0      ┆ Drop Kick ┆ 1.0       ┆ Incomplet │\n",
       "│           ┆           ┆           ┆           ┆   ┆          ┆           ┆           ┆ e         │\n",
       "│ 25%       ┆ 7544.0    ┆ 40.0      ┆ 20.0      ┆ … ┆ 0.933    ┆ null      ┆ null      ┆ null      │\n",
       "│ 50%       ┆ 7560.0    ┆ 59.0      ┆ 40.0      ┆ … ┆ 1.293    ┆ null      ┆ null      ┆ null      │\n",
       "│ 75%       ┆ 7580.0    ┆ 80.0      ┆ 61.0      ┆ … ┆ 1.84     ┆ null      ┆ null      ┆ null      │\n",
       "│ max       ┆ 8658.0    ┆ 120.0     ┆ 80.0      ┆ … ┆ 8.56     ┆ Right     ┆ 1.0       ┆ Unknown   │\n",
       "│           ┆           ┆           ┆           ┆   ┆          ┆ Foot      ┆           ┆           │\n",
       "└───────────┴───────────┴───────────┴───────────┴───┴──────────┴───────────┴───────────┴───────────┘"
      ]
     },
     "execution_count": 7,
     "metadata": {},
     "output_type": "execute_result"
    }
   ],
   "source": [
    "passes_df.describe()"
   ]
  },
  {
   "cell_type": "markdown",
   "id": "32b053b4",
   "metadata": {},
   "source": [
    "The ``null_count`` row tells us that the features ``body_part``, ``under_presssure`` and ``outcome`` have null values. '"
   ]
  },
  {
   "cell_type": "markdown",
   "id": "d1041587",
   "metadata": {},
   "source": []
  }
 ],
 "metadata": {
  "kernelspec": {
   "display_name": "ddsa",
   "language": "python",
   "name": "python3"
  },
  "language_info": {
   "codemirror_mode": {
    "name": "ipython",
    "version": 3
   },
   "file_extension": ".py",
   "mimetype": "text/x-python",
   "name": "python",
   "nbconvert_exporter": "python",
   "pygments_lexer": "ipython3",
   "version": "3.11.10"
  }
 },
 "nbformat": 4,
 "nbformat_minor": 5
}
