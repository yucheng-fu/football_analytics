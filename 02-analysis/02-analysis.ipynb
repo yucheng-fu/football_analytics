{
 "cells": [
  {
   "cell_type": "code",
   "execution_count": 4,
   "id": "91d9bca2",
   "metadata": {},
   "outputs": [],
   "source": [
    "\n",
    "from statsbombpy import sb \n",
    "from xgboost import XGBClassifier\n",
    "import polars as pl\n",
    "import mplsoccer as mpl"
   ]
  },
  {
   "cell_type": "markdown",
   "id": "3db6b936",
   "metadata": {},
   "source": [
    "# Modelling pass difficulties\n",
    "We can all agree that Pavard's half volley goal was a stunner, but I think the buildup to the goal is also really interesting to look into. Matuidi plays a through ball to Lucas Hernández who then plays a cross at a difficult angle back to Pavard, before he hits a half volley. While the half volley itself requires lots of technique (and luck), I want to answer the following about the passes:\n",
    "1. Is there a way to quantify the difficulty of the two passes that lead up the goal?\n",
    "2. If yes, which pass was more difficult to make?"
   ]
  },
  {
   "cell_type": "markdown",
   "id": "501cbf32",
   "metadata": {},
   "source": [
    "Fortunately, there are lots of data related to passes in the ``statsbombpy`` API which we can leverage to adopt a data-driven approach to answer our questions. The plan is to build a model that can tell us give us a pass difficulty score $p_{pass}$ for a pass from point $(x_1, y_1)$ to $(x_2, y_2)$ on the pitch. Before diving into building the model, let us discuss some assumptions and their limitations:"
   ]
  },
  {
   "cell_type": "markdown",
   "id": "41b9075b",
   "metadata": {},
   "source": []
  }
 ],
 "metadata": {
  "kernelspec": {
   "display_name": "ddsa",
   "language": "python",
   "name": "python3"
  },
  "language_info": {
   "codemirror_mode": {
    "name": "ipython",
    "version": 3
   },
   "file_extension": ".py",
   "mimetype": "text/x-python",
   "name": "python",
   "nbconvert_exporter": "python",
   "pygments_lexer": "ipython3",
   "version": "3.11.10"
  }
 },
 "nbformat": 4,
 "nbformat_minor": 5
}
